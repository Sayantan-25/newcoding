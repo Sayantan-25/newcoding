{
 "cells": [
  {
   "cell_type": "markdown",
   "id": "6578d069",
   "metadata": {},
   "source": [
    "# AIM OF THE PROJECT"
   ]
  },
  {
   "cell_type": "markdown",
   "id": "62d2af35",
   "metadata": {},
   "source": [
    " DIC Finance Company deals in all home loans.They have presence across all urban,semi urban and rural areas.Customer first apply for home loans after that the company validates the customer eligibility for loan.The company wants to automate the loan eligibility based on customer details provided while filling the application form.So I have attempted to prepare a project where the model can predict the loan approval and hence can accelerate the decision making process for determining whether the applicant is eligible for a loan or not.     "
   ]
  },
  {
   "cell_type": "markdown",
   "id": "50050938",
   "metadata": {},
   "source": [
    "# The Machine Learning Models used in the project"
   ]
  },
  {
   "cell_type": "code",
   "execution_count": null,
   "id": "9c755d0a",
   "metadata": {},
   "outputs": [],
   "source": [
    "#----Logistic Regression\n",
    "#-----RandomForest Classifier\n",
    "#-----Decision Tree Classifier\n",
    "#----Support Vector Classifier\n",
    "#----RandomForest Classifier(Randomizedsearch cv)\n",
    "#----RandomForest Classifier(Gridsearch cv)\n",
    "#----Decision Tree classifier(Randomizedsearch cv)\n",
    "#----Support vector classifier(Gridsearch cv)\n",
    "#----Logistic Regression(Gridsearch cv)"
   ]
  },
  {
   "cell_type": "markdown",
   "id": "90f3353f",
   "metadata": {},
   "source": [
    "# Dataset Description"
   ]
  },
  {
   "cell_type": "code",
   "execution_count": null,
   "id": "0a11c933",
   "metadata": {},
   "outputs": [],
   "source": [
    "#LoanID-Loan Reference ID(unique)\n",
    "#Gender-Applicant Gender(Male or female)\n",
    "#Married-Applicant Marital Status(Married or not married)\n",
    "#Dependents-Number of family members present\n",
    "#Education-Applicant educational qualification(graduate or not graduate)\n",
    "#Self_Employed-Applicant employment status\n",
    "#Applicant Income-Applicant's monthly salary/income\n",
    "#Coapplicant Income-Additional applicant's monthly salary\n",
    "#LoanAmount-Loan amount taken\n",
    "#Loan_Amount_Term-The Loan's repayment period(in days)\n",
    "#Credit History-Records of previous creadit history(0:bad creadit history,1:good creadit history)\n",
    "#Property Area-The location of the property(Rural/semi urban/urban)\n",
    "#Loan Status--Status of the Loan whether approaved or not"
   ]
  },
  {
   "cell_type": "code",
   "execution_count": 1,
   "id": "37a97d18",
   "metadata": {},
   "outputs": [],
   "source": [
    "import numpy as np\n",
    "import pandas as pd\n",
    "import matplotlib.pyplot as plt\n",
    "import seaborn as sns"
   ]
  },
  {
   "cell_type": "code",
   "execution_count": 2,
   "id": "ceec1f5b",
   "metadata": {},
   "outputs": [],
   "source": [
    "Loan_train= pd.read_csv(\"Train_data.csv\")"
   ]
  },
  {
   "cell_type": "code",
   "execution_count": 3,
   "id": "e1b1298a",
   "metadata": {},
   "outputs": [
    {
     "data": {
      "text/html": [
       "<div>\n",
       "<style scoped>\n",
       "    .dataframe tbody tr th:only-of-type {\n",
       "        vertical-align: middle;\n",
       "    }\n",
       "\n",
       "    .dataframe tbody tr th {\n",
       "        vertical-align: top;\n",
       "    }\n",
       "\n",
       "    .dataframe thead th {\n",
       "        text-align: right;\n",
       "    }\n",
       "</style>\n",
       "<table border=\"1\" class=\"dataframe\">\n",
       "  <thead>\n",
       "    <tr style=\"text-align: right;\">\n",
       "      <th></th>\n",
       "      <th>Loan_ID</th>\n",
       "      <th>Gender</th>\n",
       "      <th>Married</th>\n",
       "      <th>Dependents</th>\n",
       "      <th>Education</th>\n",
       "      <th>Self_Employed</th>\n",
       "      <th>ApplicantIncome</th>\n",
       "      <th>CoapplicantIncome</th>\n",
       "      <th>LoanAmount</th>\n",
       "      <th>Loan_Amount_Term</th>\n",
       "      <th>Credit_History</th>\n",
       "      <th>Property_Area</th>\n",
       "      <th>Loan_Status</th>\n",
       "    </tr>\n",
       "  </thead>\n",
       "  <tbody>\n",
       "    <tr>\n",
       "      <th>0</th>\n",
       "      <td>LP001002</td>\n",
       "      <td>Male</td>\n",
       "      <td>No</td>\n",
       "      <td>0</td>\n",
       "      <td>Graduate</td>\n",
       "      <td>No</td>\n",
       "      <td>5849</td>\n",
       "      <td>0.0</td>\n",
       "      <td>NaN</td>\n",
       "      <td>360.0</td>\n",
       "      <td>1.0</td>\n",
       "      <td>Urban</td>\n",
       "      <td>Y</td>\n",
       "    </tr>\n",
       "    <tr>\n",
       "      <th>1</th>\n",
       "      <td>LP001003</td>\n",
       "      <td>Male</td>\n",
       "      <td>Yes</td>\n",
       "      <td>1</td>\n",
       "      <td>Graduate</td>\n",
       "      <td>No</td>\n",
       "      <td>4583</td>\n",
       "      <td>1508.0</td>\n",
       "      <td>128.0</td>\n",
       "      <td>360.0</td>\n",
       "      <td>1.0</td>\n",
       "      <td>Rural</td>\n",
       "      <td>N</td>\n",
       "    </tr>\n",
       "    <tr>\n",
       "      <th>2</th>\n",
       "      <td>LP001005</td>\n",
       "      <td>Male</td>\n",
       "      <td>Yes</td>\n",
       "      <td>0</td>\n",
       "      <td>Graduate</td>\n",
       "      <td>Yes</td>\n",
       "      <td>3000</td>\n",
       "      <td>0.0</td>\n",
       "      <td>66.0</td>\n",
       "      <td>360.0</td>\n",
       "      <td>1.0</td>\n",
       "      <td>Urban</td>\n",
       "      <td>Y</td>\n",
       "    </tr>\n",
       "    <tr>\n",
       "      <th>3</th>\n",
       "      <td>LP001006</td>\n",
       "      <td>Male</td>\n",
       "      <td>Yes</td>\n",
       "      <td>0</td>\n",
       "      <td>Not Graduate</td>\n",
       "      <td>No</td>\n",
       "      <td>2583</td>\n",
       "      <td>2358.0</td>\n",
       "      <td>120.0</td>\n",
       "      <td>360.0</td>\n",
       "      <td>1.0</td>\n",
       "      <td>Urban</td>\n",
       "      <td>Y</td>\n",
       "    </tr>\n",
       "    <tr>\n",
       "      <th>4</th>\n",
       "      <td>LP001008</td>\n",
       "      <td>Male</td>\n",
       "      <td>No</td>\n",
       "      <td>0</td>\n",
       "      <td>Graduate</td>\n",
       "      <td>No</td>\n",
       "      <td>6000</td>\n",
       "      <td>0.0</td>\n",
       "      <td>141.0</td>\n",
       "      <td>360.0</td>\n",
       "      <td>1.0</td>\n",
       "      <td>Urban</td>\n",
       "      <td>Y</td>\n",
       "    </tr>\n",
       "  </tbody>\n",
       "</table>\n",
       "</div>"
      ],
      "text/plain": [
       "    Loan_ID Gender Married Dependents     Education Self_Employed  \\\n",
       "0  LP001002   Male      No          0      Graduate            No   \n",
       "1  LP001003   Male     Yes          1      Graduate            No   \n",
       "2  LP001005   Male     Yes          0      Graduate           Yes   \n",
       "3  LP001006   Male     Yes          0  Not Graduate            No   \n",
       "4  LP001008   Male      No          0      Graduate            No   \n",
       "\n",
       "   ApplicantIncome  CoapplicantIncome  LoanAmount  Loan_Amount_Term  \\\n",
       "0             5849                0.0         NaN             360.0   \n",
       "1             4583             1508.0       128.0             360.0   \n",
       "2             3000                0.0        66.0             360.0   \n",
       "3             2583             2358.0       120.0             360.0   \n",
       "4             6000                0.0       141.0             360.0   \n",
       "\n",
       "   Credit_History Property_Area Loan_Status  \n",
       "0             1.0         Urban           Y  \n",
       "1             1.0         Rural           N  \n",
       "2             1.0         Urban           Y  \n",
       "3             1.0         Urban           Y  \n",
       "4             1.0         Urban           Y  "
      ]
     },
     "execution_count": 3,
     "metadata": {},
     "output_type": "execute_result"
    }
   ],
   "source": [
    "Loan_train.head()"
   ]
  },
  {
   "cell_type": "code",
   "execution_count": 4,
   "id": "6d13c76b",
   "metadata": {},
   "outputs": [],
   "source": [
    "Loan_test = pd.read_csv(\"Test_data.csv\")"
   ]
  },
  {
   "cell_type": "code",
   "execution_count": 5,
   "id": "a0186a80",
   "metadata": {},
   "outputs": [
    {
     "data": {
      "text/html": [
       "<div>\n",
       "<style scoped>\n",
       "    .dataframe tbody tr th:only-of-type {\n",
       "        vertical-align: middle;\n",
       "    }\n",
       "\n",
       "    .dataframe tbody tr th {\n",
       "        vertical-align: top;\n",
       "    }\n",
       "\n",
       "    .dataframe thead th {\n",
       "        text-align: right;\n",
       "    }\n",
       "</style>\n",
       "<table border=\"1\" class=\"dataframe\">\n",
       "  <thead>\n",
       "    <tr style=\"text-align: right;\">\n",
       "      <th></th>\n",
       "      <th>Loan_ID</th>\n",
       "      <th>Gender</th>\n",
       "      <th>Married</th>\n",
       "      <th>Dependents</th>\n",
       "      <th>Education</th>\n",
       "      <th>Self_Employed</th>\n",
       "      <th>ApplicantIncome</th>\n",
       "      <th>CoapplicantIncome</th>\n",
       "      <th>LoanAmount</th>\n",
       "      <th>Loan_Amount_Term</th>\n",
       "      <th>Credit_History</th>\n",
       "      <th>Property_Area</th>\n",
       "    </tr>\n",
       "  </thead>\n",
       "  <tbody>\n",
       "    <tr>\n",
       "      <th>0</th>\n",
       "      <td>LP001015</td>\n",
       "      <td>Male</td>\n",
       "      <td>Yes</td>\n",
       "      <td>0</td>\n",
       "      <td>Graduate</td>\n",
       "      <td>No</td>\n",
       "      <td>5720</td>\n",
       "      <td>0</td>\n",
       "      <td>110.0</td>\n",
       "      <td>360.0</td>\n",
       "      <td>1.0</td>\n",
       "      <td>Urban</td>\n",
       "    </tr>\n",
       "    <tr>\n",
       "      <th>1</th>\n",
       "      <td>LP001022</td>\n",
       "      <td>Male</td>\n",
       "      <td>Yes</td>\n",
       "      <td>1</td>\n",
       "      <td>Graduate</td>\n",
       "      <td>No</td>\n",
       "      <td>3076</td>\n",
       "      <td>1500</td>\n",
       "      <td>126.0</td>\n",
       "      <td>360.0</td>\n",
       "      <td>1.0</td>\n",
       "      <td>Urban</td>\n",
       "    </tr>\n",
       "    <tr>\n",
       "      <th>2</th>\n",
       "      <td>LP001031</td>\n",
       "      <td>Male</td>\n",
       "      <td>Yes</td>\n",
       "      <td>2</td>\n",
       "      <td>Graduate</td>\n",
       "      <td>No</td>\n",
       "      <td>5000</td>\n",
       "      <td>1800</td>\n",
       "      <td>208.0</td>\n",
       "      <td>360.0</td>\n",
       "      <td>1.0</td>\n",
       "      <td>Urban</td>\n",
       "    </tr>\n",
       "    <tr>\n",
       "      <th>3</th>\n",
       "      <td>LP001035</td>\n",
       "      <td>Male</td>\n",
       "      <td>Yes</td>\n",
       "      <td>2</td>\n",
       "      <td>Graduate</td>\n",
       "      <td>No</td>\n",
       "      <td>2340</td>\n",
       "      <td>2546</td>\n",
       "      <td>100.0</td>\n",
       "      <td>360.0</td>\n",
       "      <td>NaN</td>\n",
       "      <td>Urban</td>\n",
       "    </tr>\n",
       "    <tr>\n",
       "      <th>4</th>\n",
       "      <td>LP001051</td>\n",
       "      <td>Male</td>\n",
       "      <td>No</td>\n",
       "      <td>0</td>\n",
       "      <td>Not Graduate</td>\n",
       "      <td>No</td>\n",
       "      <td>3276</td>\n",
       "      <td>0</td>\n",
       "      <td>78.0</td>\n",
       "      <td>360.0</td>\n",
       "      <td>1.0</td>\n",
       "      <td>Urban</td>\n",
       "    </tr>\n",
       "  </tbody>\n",
       "</table>\n",
       "</div>"
      ],
      "text/plain": [
       "    Loan_ID Gender Married Dependents     Education Self_Employed  \\\n",
       "0  LP001015   Male     Yes          0      Graduate            No   \n",
       "1  LP001022   Male     Yes          1      Graduate            No   \n",
       "2  LP001031   Male     Yes          2      Graduate            No   \n",
       "3  LP001035   Male     Yes          2      Graduate            No   \n",
       "4  LP001051   Male      No          0  Not Graduate            No   \n",
       "\n",
       "   ApplicantIncome  CoapplicantIncome  LoanAmount  Loan_Amount_Term  \\\n",
       "0             5720                  0       110.0             360.0   \n",
       "1             3076               1500       126.0             360.0   \n",
       "2             5000               1800       208.0             360.0   \n",
       "3             2340               2546       100.0             360.0   \n",
       "4             3276                  0        78.0             360.0   \n",
       "\n",
       "   Credit_History Property_Area  \n",
       "0             1.0         Urban  \n",
       "1             1.0         Urban  \n",
       "2             1.0         Urban  \n",
       "3             NaN         Urban  \n",
       "4             1.0         Urban  "
      ]
     },
     "execution_count": 5,
     "metadata": {},
     "output_type": "execute_result"
    }
   ],
   "source": [
    "Loan_test.head()"
   ]
  },
  {
   "cell_type": "code",
   "execution_count": 6,
   "id": "e9cd632a",
   "metadata": {},
   "outputs": [],
   "source": [
    "Loan_data = pd.concat((Loan_train, Loan_test))"
   ]
  },
  {
   "cell_type": "code",
   "execution_count": 7,
   "id": "6b874733",
   "metadata": {},
   "outputs": [
    {
     "data": {
      "text/html": [
       "<div>\n",
       "<style scoped>\n",
       "    .dataframe tbody tr th:only-of-type {\n",
       "        vertical-align: middle;\n",
       "    }\n",
       "\n",
       "    .dataframe tbody tr th {\n",
       "        vertical-align: top;\n",
       "    }\n",
       "\n",
       "    .dataframe thead th {\n",
       "        text-align: right;\n",
       "    }\n",
       "</style>\n",
       "<table border=\"1\" class=\"dataframe\">\n",
       "  <thead>\n",
       "    <tr style=\"text-align: right;\">\n",
       "      <th></th>\n",
       "      <th>Loan_ID</th>\n",
       "      <th>Gender</th>\n",
       "      <th>Married</th>\n",
       "      <th>Dependents</th>\n",
       "      <th>Education</th>\n",
       "      <th>Self_Employed</th>\n",
       "      <th>ApplicantIncome</th>\n",
       "      <th>CoapplicantIncome</th>\n",
       "      <th>LoanAmount</th>\n",
       "      <th>Loan_Amount_Term</th>\n",
       "      <th>Credit_History</th>\n",
       "      <th>Property_Area</th>\n",
       "      <th>Loan_Status</th>\n",
       "    </tr>\n",
       "  </thead>\n",
       "  <tbody>\n",
       "    <tr>\n",
       "      <th>0</th>\n",
       "      <td>LP001002</td>\n",
       "      <td>Male</td>\n",
       "      <td>No</td>\n",
       "      <td>0</td>\n",
       "      <td>Graduate</td>\n",
       "      <td>No</td>\n",
       "      <td>5849</td>\n",
       "      <td>0.0</td>\n",
       "      <td>NaN</td>\n",
       "      <td>360.0</td>\n",
       "      <td>1.0</td>\n",
       "      <td>Urban</td>\n",
       "      <td>Y</td>\n",
       "    </tr>\n",
       "    <tr>\n",
       "      <th>1</th>\n",
       "      <td>LP001003</td>\n",
       "      <td>Male</td>\n",
       "      <td>Yes</td>\n",
       "      <td>1</td>\n",
       "      <td>Graduate</td>\n",
       "      <td>No</td>\n",
       "      <td>4583</td>\n",
       "      <td>1508.0</td>\n",
       "      <td>128.0</td>\n",
       "      <td>360.0</td>\n",
       "      <td>1.0</td>\n",
       "      <td>Rural</td>\n",
       "      <td>N</td>\n",
       "    </tr>\n",
       "    <tr>\n",
       "      <th>2</th>\n",
       "      <td>LP001005</td>\n",
       "      <td>Male</td>\n",
       "      <td>Yes</td>\n",
       "      <td>0</td>\n",
       "      <td>Graduate</td>\n",
       "      <td>Yes</td>\n",
       "      <td>3000</td>\n",
       "      <td>0.0</td>\n",
       "      <td>66.0</td>\n",
       "      <td>360.0</td>\n",
       "      <td>1.0</td>\n",
       "      <td>Urban</td>\n",
       "      <td>Y</td>\n",
       "    </tr>\n",
       "    <tr>\n",
       "      <th>3</th>\n",
       "      <td>LP001006</td>\n",
       "      <td>Male</td>\n",
       "      <td>Yes</td>\n",
       "      <td>0</td>\n",
       "      <td>Not Graduate</td>\n",
       "      <td>No</td>\n",
       "      <td>2583</td>\n",
       "      <td>2358.0</td>\n",
       "      <td>120.0</td>\n",
       "      <td>360.0</td>\n",
       "      <td>1.0</td>\n",
       "      <td>Urban</td>\n",
       "      <td>Y</td>\n",
       "    </tr>\n",
       "    <tr>\n",
       "      <th>4</th>\n",
       "      <td>LP001008</td>\n",
       "      <td>Male</td>\n",
       "      <td>No</td>\n",
       "      <td>0</td>\n",
       "      <td>Graduate</td>\n",
       "      <td>No</td>\n",
       "      <td>6000</td>\n",
       "      <td>0.0</td>\n",
       "      <td>141.0</td>\n",
       "      <td>360.0</td>\n",
       "      <td>1.0</td>\n",
       "      <td>Urban</td>\n",
       "      <td>Y</td>\n",
       "    </tr>\n",
       "  </tbody>\n",
       "</table>\n",
       "</div>"
      ],
      "text/plain": [
       "    Loan_ID Gender Married Dependents     Education Self_Employed  \\\n",
       "0  LP001002   Male      No          0      Graduate            No   \n",
       "1  LP001003   Male     Yes          1      Graduate            No   \n",
       "2  LP001005   Male     Yes          0      Graduate           Yes   \n",
       "3  LP001006   Male     Yes          0  Not Graduate            No   \n",
       "4  LP001008   Male      No          0      Graduate            No   \n",
       "\n",
       "   ApplicantIncome  CoapplicantIncome  LoanAmount  Loan_Amount_Term  \\\n",
       "0             5849                0.0         NaN             360.0   \n",
       "1             4583             1508.0       128.0             360.0   \n",
       "2             3000                0.0        66.0             360.0   \n",
       "3             2583             2358.0       120.0             360.0   \n",
       "4             6000                0.0       141.0             360.0   \n",
       "\n",
       "   Credit_History Property_Area Loan_Status  \n",
       "0             1.0         Urban           Y  \n",
       "1             1.0         Rural           N  \n",
       "2             1.0         Urban           Y  \n",
       "3             1.0         Urban           Y  \n",
       "4             1.0         Urban           Y  "
      ]
     },
     "execution_count": 7,
     "metadata": {},
     "output_type": "execute_result"
    }
   ],
   "source": [
    "Loan_data.head()"
   ]
  },
  {
   "cell_type": "code",
   "execution_count": 8,
   "id": "2220664f",
   "metadata": {},
   "outputs": [
    {
     "data": {
      "text/plain": [
       "(981, 13)"
      ]
     },
     "execution_count": 8,
     "metadata": {},
     "output_type": "execute_result"
    }
   ],
   "source": [
    "Loan_data.shape"
   ]
  },
  {
   "cell_type": "code",
   "execution_count": 9,
   "id": "20545620",
   "metadata": {},
   "outputs": [
    {
     "name": "stdout",
     "output_type": "stream",
     "text": [
      "<class 'pandas.core.frame.DataFrame'>\n",
      "Int64Index: 981 entries, 0 to 366\n",
      "Data columns (total 13 columns):\n",
      " #   Column             Non-Null Count  Dtype  \n",
      "---  ------             --------------  -----  \n",
      " 0   Loan_ID            981 non-null    object \n",
      " 1   Gender             957 non-null    object \n",
      " 2   Married            978 non-null    object \n",
      " 3   Dependents         956 non-null    object \n",
      " 4   Education          981 non-null    object \n",
      " 5   Self_Employed      926 non-null    object \n",
      " 6   ApplicantIncome    981 non-null    int64  \n",
      " 7   CoapplicantIncome  981 non-null    float64\n",
      " 8   LoanAmount         954 non-null    float64\n",
      " 9   Loan_Amount_Term   961 non-null    float64\n",
      " 10  Credit_History     902 non-null    float64\n",
      " 11  Property_Area      981 non-null    object \n",
      " 12  Loan_Status        614 non-null    object \n",
      "dtypes: float64(4), int64(1), object(8)\n",
      "memory usage: 107.3+ KB\n"
     ]
    }
   ],
   "source": [
    "Loan_data.info()"
   ]
  },
  {
   "cell_type": "code",
   "execution_count": 10,
   "id": "bde59fc2",
   "metadata": {},
   "outputs": [
    {
     "data": {
      "text/html": [
       "<div>\n",
       "<style scoped>\n",
       "    .dataframe tbody tr th:only-of-type {\n",
       "        vertical-align: middle;\n",
       "    }\n",
       "\n",
       "    .dataframe tbody tr th {\n",
       "        vertical-align: top;\n",
       "    }\n",
       "\n",
       "    .dataframe thead th {\n",
       "        text-align: right;\n",
       "    }\n",
       "</style>\n",
       "<table border=\"1\" class=\"dataframe\">\n",
       "  <thead>\n",
       "    <tr style=\"text-align: right;\">\n",
       "      <th></th>\n",
       "      <th>ApplicantIncome</th>\n",
       "      <th>CoapplicantIncome</th>\n",
       "      <th>LoanAmount</th>\n",
       "      <th>Loan_Amount_Term</th>\n",
       "      <th>Credit_History</th>\n",
       "    </tr>\n",
       "  </thead>\n",
       "  <tbody>\n",
       "    <tr>\n",
       "      <th>count</th>\n",
       "      <td>981.000000</td>\n",
       "      <td>981.000000</td>\n",
       "      <td>954.000000</td>\n",
       "      <td>961.000000</td>\n",
       "      <td>902.000000</td>\n",
       "    </tr>\n",
       "    <tr>\n",
       "      <th>mean</th>\n",
       "      <td>5179.795107</td>\n",
       "      <td>1601.916330</td>\n",
       "      <td>142.511530</td>\n",
       "      <td>342.201873</td>\n",
       "      <td>0.835920</td>\n",
       "    </tr>\n",
       "    <tr>\n",
       "      <th>std</th>\n",
       "      <td>5695.104533</td>\n",
       "      <td>2718.772806</td>\n",
       "      <td>77.421743</td>\n",
       "      <td>65.100602</td>\n",
       "      <td>0.370553</td>\n",
       "    </tr>\n",
       "    <tr>\n",
       "      <th>min</th>\n",
       "      <td>0.000000</td>\n",
       "      <td>0.000000</td>\n",
       "      <td>9.000000</td>\n",
       "      <td>6.000000</td>\n",
       "      <td>0.000000</td>\n",
       "    </tr>\n",
       "    <tr>\n",
       "      <th>25%</th>\n",
       "      <td>2875.000000</td>\n",
       "      <td>0.000000</td>\n",
       "      <td>100.000000</td>\n",
       "      <td>360.000000</td>\n",
       "      <td>1.000000</td>\n",
       "    </tr>\n",
       "    <tr>\n",
       "      <th>50%</th>\n",
       "      <td>3800.000000</td>\n",
       "      <td>1110.000000</td>\n",
       "      <td>126.000000</td>\n",
       "      <td>360.000000</td>\n",
       "      <td>1.000000</td>\n",
       "    </tr>\n",
       "    <tr>\n",
       "      <th>75%</th>\n",
       "      <td>5516.000000</td>\n",
       "      <td>2365.000000</td>\n",
       "      <td>162.000000</td>\n",
       "      <td>360.000000</td>\n",
       "      <td>1.000000</td>\n",
       "    </tr>\n",
       "    <tr>\n",
       "      <th>max</th>\n",
       "      <td>81000.000000</td>\n",
       "      <td>41667.000000</td>\n",
       "      <td>700.000000</td>\n",
       "      <td>480.000000</td>\n",
       "      <td>1.000000</td>\n",
       "    </tr>\n",
       "  </tbody>\n",
       "</table>\n",
       "</div>"
      ],
      "text/plain": [
       "       ApplicantIncome  CoapplicantIncome  LoanAmount  Loan_Amount_Term  \\\n",
       "count       981.000000         981.000000  954.000000        961.000000   \n",
       "mean       5179.795107        1601.916330  142.511530        342.201873   \n",
       "std        5695.104533        2718.772806   77.421743         65.100602   \n",
       "min           0.000000           0.000000    9.000000          6.000000   \n",
       "25%        2875.000000           0.000000  100.000000        360.000000   \n",
       "50%        3800.000000        1110.000000  126.000000        360.000000   \n",
       "75%        5516.000000        2365.000000  162.000000        360.000000   \n",
       "max       81000.000000       41667.000000  700.000000        480.000000   \n",
       "\n",
       "       Credit_History  \n",
       "count      902.000000  \n",
       "mean         0.835920  \n",
       "std          0.370553  \n",
       "min          0.000000  \n",
       "25%          1.000000  \n",
       "50%          1.000000  \n",
       "75%          1.000000  \n",
       "max          1.000000  "
      ]
     },
     "execution_count": 10,
     "metadata": {},
     "output_type": "execute_result"
    }
   ],
   "source": [
    "Loan_data.describe()"
   ]
  },
  {
   "cell_type": "code",
   "execution_count": 11,
   "id": "d7257f3c",
   "metadata": {},
   "outputs": [
    {
     "data": {
      "text/plain": [
       "Loan_ID               0.000000\n",
       "Gender                2.446483\n",
       "Married               0.305810\n",
       "Dependents            2.548420\n",
       "Education             0.000000\n",
       "Self_Employed         5.606524\n",
       "ApplicantIncome       0.000000\n",
       "CoapplicantIncome     0.000000\n",
       "LoanAmount            2.752294\n",
       "Loan_Amount_Term      2.038736\n",
       "Credit_History        8.053007\n",
       "Property_Area         0.000000\n",
       "Loan_Status          37.410805\n",
       "dtype: float64"
      ]
     },
     "execution_count": 11,
     "metadata": {},
     "output_type": "execute_result"
    }
   ],
   "source": [
    "Loan_data.isnull().mean()*100"
   ]
  },
  {
   "cell_type": "code",
   "execution_count": 12,
   "id": "7db1fb27",
   "metadata": {},
   "outputs": [
    {
     "data": {
      "text/plain": [
       "<AxesSubplot:>"
      ]
     },
     "execution_count": 12,
     "metadata": {},
     "output_type": "execute_result"
    },
    {
     "data": {
      "image/png": "[encoded data removed]",
      "text/plain": [
       "<Figure size 720x360 with 2 Axes>"
      ]
     },
     "metadata": {
      "needs_background": "light"
     },
     "output_type": "display_data"
    }
   ],
   "source": [
    "plt.figure(figsize = (10,5))\n",
    "sns.heatmap(Loan_data.isnull())"
   ]
  },
  {
   "cell_type": "code",
   "execution_count": 13,
   "id": "0141709a",
   "metadata": {},
   "outputs": [],
   "source": [
    "cat_vars = [var for var in Loan_data if Loan_data[var].dtype == 'object']"
   ]
  },
  {
   "cell_type": "code",
   "execution_count": 14,
   "id": "c375fa0c",
   "metadata": {},
   "outputs": [
    {
     "data": {
      "text/plain": [
       "['Loan_ID',\n",
       " 'Gender',\n",
       " 'Married',\n",
       " 'Dependents',\n",
       " 'Education',\n",
       " 'Self_Employed',\n",
       " 'Property_Area',\n",
       " 'Loan_Status']"
      ]
     },
     "execution_count": 14,
     "metadata": {},
     "output_type": "execute_result"
    }
   ],
   "source": [
    "cat_vars"
   ]
  },
  {
   "cell_type": "markdown",
   "id": "0cc653f3",
   "metadata": {},
   "source": [
    "# Exploratory Data Analysis"
   ]
  },
  {
   "cell_type": "code",
   "execution_count": 15,
   "id": "cf40daf5",
   "metadata": {},
   "outputs": [],
   "source": [
    "#UNIVARIATE ANALYSIS"
   ]
  },
  {
   "cell_type": "code",
   "execution_count": 16,
   "id": "18cc4f51",
   "metadata": {},
   "outputs": [
    {
     "data": {
      "text/plain": [
       "<AxesSubplot:xlabel='Property_Area', ylabel='count'>"
      ]
     },
     "execution_count": 16,
     "metadata": {},
     "output_type": "execute_result"
    },
    {
     "data": {
      "image/png": "[encoded data removed]",
      "text/plain": [
       "<Figure size 1296x864 with 6 Axes>"
      ]
     },
     "metadata": {
      "needs_background": "light"
     },
     "output_type": "display_data"
    }
   ],
   "source": [
    "plt.figure(figsize = (18, 12))\n",
    "plt.subplot(3,3,1)\n",
    "sns.countplot(x = 'Gender', data = Loan_data , palette = 'Paired' )\n",
    "\n",
    "plt.subplot(3,3,2)\n",
    "sns.countplot(x = 'Married', data = Loan_data , palette = 'Paired')\n",
    "\n",
    "plt.subplot(3,3,3)\n",
    "sns.countplot(x = 'Dependents', data = Loan_data , palette = 'Paired')\n",
    " \n",
    "plt.subplot(3,3,4)\n",
    "sns.countplot(x = 'Education', data = Loan_data , palette = 'Paired')\n",
    "\n",
    "plt.subplot(3,3,5)\n",
    "sns.countplot(x = 'Self_Employed', data = Loan_data , palette = 'Paired')\n",
    " \n",
    "plt.subplot(3,3,6)\n",
    "sns.countplot(x = 'Property_Area', data = Loan_data , palette = 'Paired')"
   ]
  },
  {
   "cell_type": "code",
   "execution_count": 17,
   "id": "afbeed3e",
   "metadata": {},
   "outputs": [],
   "source": [
    "#From the above we can conclude that number of Males are higher in number than Females\n",
    "#Number of married people are more than unmarried people\n",
    "#Number of dependents with count 0 are highest in number\n",
    "#graduate people are higher in number than non-graduates\n",
    "#Maximum people are not self-employed\n",
    "#People in semi-urban area are highest in number"
   ]
  },
  {
   "cell_type": "code",
   "execution_count": 18,
   "id": "5439df3a",
   "metadata": {},
   "outputs": [
    {
     "data": {
      "text/plain": [
       "<AxesSubplot:ylabel='Loan_Status'>"
      ]
     },
     "execution_count": 18,
     "metadata": {},
     "output_type": "execute_result"
    },
    {
     "data": {
      "image/png": "[encoded data removed]",
      "text/plain": [
       "<Figure size 576x360 with 1 Axes>"
      ]
     },
     "metadata": {},
     "output_type": "display_data"
    }
   ],
   "source": [
    "plt.figure(figsize = (8,5))\n",
    "Loan_data['Loan_Status'].value_counts().plot(kind = 'pie', autopct = '%.2f')"
   ]
  },
  {
   "cell_type": "code",
   "execution_count": 19,
   "id": "f16e5d6d",
   "metadata": {},
   "outputs": [],
   "source": [
    "#Around 69% of the people got approved for the Loan"
   ]
  },
  {
   "cell_type": "code",
   "execution_count": 20,
   "id": "c11d8adc",
   "metadata": {},
   "outputs": [
    {
     "data": {
      "text/plain": [
       "Y    422\n",
       "N    192\n",
       "Name: Loan_Status, dtype: int64"
      ]
     },
     "execution_count": 20,
     "metadata": {},
     "output_type": "execute_result"
    }
   ],
   "source": [
    "Loan_data['Loan_Status'].value_counts()"
   ]
  },
  {
   "cell_type": "code",
   "execution_count": 21,
   "id": "840c1521",
   "metadata": {},
   "outputs": [],
   "source": [
    "num_vars = Loan_data.select_dtypes(include = ['int64', 'float64'])"
   ]
  },
  {
   "cell_type": "code",
   "execution_count": 22,
   "id": "85280225",
   "metadata": {},
   "outputs": [
    {
     "data": {
      "text/html": [
       "<div>\n",
       "<style scoped>\n",
       "    .dataframe tbody tr th:only-of-type {\n",
       "        vertical-align: middle;\n",
       "    }\n",
       "\n",
       "    .dataframe tbody tr th {\n",
       "        vertical-align: top;\n",
       "    }\n",
       "\n",
       "    .dataframe thead th {\n",
       "        text-align: right;\n",
       "    }\n",
       "</style>\n",
       "<table border=\"1\" class=\"dataframe\">\n",
       "  <thead>\n",
       "    <tr style=\"text-align: right;\">\n",
       "      <th></th>\n",
       "      <th>ApplicantIncome</th>\n",
       "      <th>CoapplicantIncome</th>\n",
       "      <th>LoanAmount</th>\n",
       "      <th>Loan_Amount_Term</th>\n",
       "      <th>Credit_History</th>\n",
       "    </tr>\n",
       "  </thead>\n",
       "  <tbody>\n",
       "    <tr>\n",
       "      <th>0</th>\n",
       "      <td>5849</td>\n",
       "      <td>0.0</td>\n",
       "      <td>NaN</td>\n",
       "      <td>360.0</td>\n",
       "      <td>1.0</td>\n",
       "    </tr>\n",
       "    <tr>\n",
       "      <th>1</th>\n",
       "      <td>4583</td>\n",
       "      <td>1508.0</td>\n",
       "      <td>128.0</td>\n",
       "      <td>360.0</td>\n",
       "      <td>1.0</td>\n",
       "    </tr>\n",
       "    <tr>\n",
       "      <th>2</th>\n",
       "      <td>3000</td>\n",
       "      <td>0.0</td>\n",
       "      <td>66.0</td>\n",
       "      <td>360.0</td>\n",
       "      <td>1.0</td>\n",
       "    </tr>\n",
       "    <tr>\n",
       "      <th>3</th>\n",
       "      <td>2583</td>\n",
       "      <td>2358.0</td>\n",
       "      <td>120.0</td>\n",
       "      <td>360.0</td>\n",
       "      <td>1.0</td>\n",
       "    </tr>\n",
       "    <tr>\n",
       "      <th>4</th>\n",
       "      <td>6000</td>\n",
       "      <td>0.0</td>\n",
       "      <td>141.0</td>\n",
       "      <td>360.0</td>\n",
       "      <td>1.0</td>\n",
       "    </tr>\n",
       "    <tr>\n",
       "      <th>...</th>\n",
       "      <td>...</td>\n",
       "      <td>...</td>\n",
       "      <td>...</td>\n",
       "      <td>...</td>\n",
       "      <td>...</td>\n",
       "    </tr>\n",
       "    <tr>\n",
       "      <th>362</th>\n",
       "      <td>4009</td>\n",
       "      <td>1777.0</td>\n",
       "      <td>113.0</td>\n",
       "      <td>360.0</td>\n",
       "      <td>1.0</td>\n",
       "    </tr>\n",
       "    <tr>\n",
       "      <th>363</th>\n",
       "      <td>4158</td>\n",
       "      <td>709.0</td>\n",
       "      <td>115.0</td>\n",
       "      <td>360.0</td>\n",
       "      <td>1.0</td>\n",
       "    </tr>\n",
       "    <tr>\n",
       "      <th>364</th>\n",
       "      <td>3250</td>\n",
       "      <td>1993.0</td>\n",
       "      <td>126.0</td>\n",
       "      <td>360.0</td>\n",
       "      <td>NaN</td>\n",
       "    </tr>\n",
       "    <tr>\n",
       "      <th>365</th>\n",
       "      <td>5000</td>\n",
       "      <td>2393.0</td>\n",
       "      <td>158.0</td>\n",
       "      <td>360.0</td>\n",
       "      <td>1.0</td>\n",
       "    </tr>\n",
       "    <tr>\n",
       "      <th>366</th>\n",
       "      <td>9200</td>\n",
       "      <td>0.0</td>\n",
       "      <td>98.0</td>\n",
       "      <td>180.0</td>\n",
       "      <td>1.0</td>\n",
       "    </tr>\n",
       "  </tbody>\n",
       "</table>\n",
       "<p>981 rows × 5 columns</p>\n",
       "</div>"
      ],
      "text/plain": [
       "     ApplicantIncome  CoapplicantIncome  LoanAmount  Loan_Amount_Term  \\\n",
       "0               5849                0.0         NaN             360.0   \n",
       "1               4583             1508.0       128.0             360.0   \n",
       "2               3000                0.0        66.0             360.0   \n",
       "3               2583             2358.0       120.0             360.0   \n",
       "4               6000                0.0       141.0             360.0   \n",
       "..               ...                ...         ...               ...   \n",
       "362             4009             1777.0       113.0             360.0   \n",
       "363             4158              709.0       115.0             360.0   \n",
       "364             3250             1993.0       126.0             360.0   \n",
       "365             5000             2393.0       158.0             360.0   \n",
       "366             9200                0.0        98.0             180.0   \n",
       "\n",
       "     Credit_History  \n",
       "0               1.0  \n",
       "1               1.0  \n",
       "2               1.0  \n",
       "3               1.0  \n",
       "4               1.0  \n",
       "..              ...  \n",
       "362             1.0  \n",
       "363             1.0  \n",
       "364             NaN  \n",
       "365             1.0  \n",
       "366             1.0  \n",
       "\n",
       "[981 rows x 5 columns]"
      ]
     },
     "execution_count": 22,
     "metadata": {},
     "output_type": "execute_result"
    }
   ],
   "source": [
    "num_vars"
   ]
  },
  {
   "cell_type": "code",
   "execution_count": 23,
   "id": "464b0cd0",
   "metadata": {},
   "outputs": [
    {
     "data": {
      "image/png": "[encoded data removed]",
      "text/plain": [
       "<Figure size 1080x720 with 5 Axes>"
      ]
     },
     "metadata": {
      "needs_background": "light"
     },
     "output_type": "display_data"
    }
   ],
   "source": [
    "plt.figure(figsize = (15,10))\n",
    "\n",
    "plt.subplot(3,2,1)\n",
    "plt.hist(Loan_data['CoapplicantIncome'], color= 'green')\n",
    "plt.xlabel(\"CoapplicantIncome\")\n",
    "\n",
    "\n",
    "plt.subplot(3,2,2)\n",
    "plt.hist(Loan_data['ApplicantIncome'], color = 'blue')\n",
    "plt.xlabel(\"ApplicantIncome\")\n",
    "\n",
    "\n",
    "\n",
    "plt.subplot(3,2,3)\n",
    "plt.hist(Loan_data['LoanAmount'], color = 'red') \n",
    "plt.xlabel(\"LoanAmount\") \n",
    "\n",
    "\n",
    "plt.subplot(3,2,4)\n",
    "plt.hist(Loan_data['Loan_Amount_Term'], bins = 60, color = 'yellow') \n",
    "plt.xlabel(\"Loan_Amount_Term\")\n",
    "\n",
    "\n",
    "plt.subplot(3,2,5)\n",
    "plt.hist(Loan_data['Credit_History'], color = 'purple') \n",
    "plt.xlabel(\"Credit_History\")\n",
    "\n",
    "plt.show()"
   ]
  },
  {
   "cell_type": "code",
   "execution_count": 24,
   "id": "0b54526f",
   "metadata": {},
   "outputs": [
    {
     "name": "stderr",
     "output_type": "stream",
     "text": [
      "C:\\Users\\sayan\\anaconda3\\lib\\site-packages\\seaborn\\distributions.py:2619: FutureWarning: `distplot` is a deprecated function and will be removed in a future version. Please adapt your code to use either `displot` (a figure-level function with similar flexibility) or `histplot` (an axes-level function for histograms).\n",
      "  warnings.warn(msg, FutureWarning)\n"
     ]
    },
    {
     "data": {
      "text/plain": [
       "<AxesSubplot:xlabel='CoapplicantIncome', ylabel='Density'>"
      ]
     },
     "execution_count": 24,
     "metadata": {},
     "output_type": "execute_result"
    },
    {
     "data": {
      "image/png": "[encoded data removed]",
      "text/plain": [
       "<Figure size 432x288 with 1 Axes>"
      ]
     },
     "metadata": {
      "needs_background": "light"
     },
     "output_type": "display_data"
    }
   ],
   "source": [
    "sns.distplot(Loan_data['CoapplicantIncome'])"
   ]
  },
  {
   "cell_type": "code",
   "execution_count": 25,
   "id": "fd729c1d",
   "metadata": {},
   "outputs": [
    {
     "name": "stderr",
     "output_type": "stream",
     "text": [
      "C:\\Users\\sayan\\anaconda3\\lib\\site-packages\\seaborn\\distributions.py:2619: FutureWarning: `distplot` is a deprecated function and will be removed in a future version. Please adapt your code to use either `displot` (a figure-level function with similar flexibility) or `histplot` (an axes-level function for histograms).\n",
      "  warnings.warn(msg, FutureWarning)\n"
     ]
    },
    {
     "data": {
      "text/plain": [
       "<AxesSubplot:xlabel='ApplicantIncome', ylabel='Density'>"
      ]
     },
     "execution_count": 25,
     "metadata": {},
     "output_type": "execute_result"
    },
    {
     "data": {
      "image/png": "[encoded data removed]",
      "text/plain": [
       "<Figure size 432x288 with 1 Axes>"
      ]
     },
     "metadata": {
      "needs_background": "light"
     },
     "output_type": "display_data"
    }
   ],
   "source": [
    "sns.distplot(Loan_data['ApplicantIncome'])"
   ]
  },
  {
   "cell_type": "code",
   "execution_count": 26,
   "id": "428e1ca2",
   "metadata": {},
   "outputs": [
    {
     "name": "stderr",
     "output_type": "stream",
     "text": [
      "C:\\Users\\sayan\\anaconda3\\lib\\site-packages\\seaborn\\distributions.py:2619: FutureWarning: `distplot` is a deprecated function and will be removed in a future version. Please adapt your code to use either `displot` (a figure-level function with similar flexibility) or `histplot` (an axes-level function for histograms).\n",
      "  warnings.warn(msg, FutureWarning)\n"
     ]
    },
    {
     "data": {
      "text/plain": [
       "<AxesSubplot:xlabel='LoanAmount', ylabel='Density'>"
      ]
     },
     "execution_count": 26,
     "metadata": {},
     "output_type": "execute_result"
    },
    {
     "data": {
      "image/png": "[encoded data removed]",
      "text/plain": [
       "<Figure size 432x288 with 1 Axes>"
      ]
     },
     "metadata": {
      "needs_background": "light"
     },
     "output_type": "display_data"
    }
   ],
   "source": [
    "sns.distplot(Loan_data['LoanAmount'])"
   ]
  },
  {
   "cell_type": "code",
   "execution_count": 27,
   "id": "c6a81ee3",
   "metadata": {},
   "outputs": [
    {
     "name": "stderr",
     "output_type": "stream",
     "text": [
      "C:\\Users\\sayan\\anaconda3\\lib\\site-packages\\seaborn\\distributions.py:2619: FutureWarning: `distplot` is a deprecated function and will be removed in a future version. Please adapt your code to use either `displot` (a figure-level function with similar flexibility) or `histplot` (an axes-level function for histograms).\n",
      "  warnings.warn(msg, FutureWarning)\n"
     ]
    },
    {
     "data": {
      "text/plain": [
       "<AxesSubplot:xlabel='Loan_Amount_Term', ylabel='Density'>"
      ]
     },
     "execution_count": 27,
     "metadata": {},
     "output_type": "execute_result"
    },
    {
     "data": {
      "image/png": "[encoded data removed]",
      "text/plain": [
       "<Figure size 432x288 with 1 Axes>"
      ]
     },
     "metadata": {
      "needs_background": "light"
     },
     "output_type": "display_data"
    }
   ],
   "source": [
    "sns.distplot(Loan_data['Loan_Amount_Term'])"
   ]
  },
  {
   "cell_type": "code",
   "execution_count": 28,
   "id": "af5de2f0",
   "metadata": {},
   "outputs": [
    {
     "name": "stderr",
     "output_type": "stream",
     "text": [
      "C:\\Users\\sayan\\anaconda3\\lib\\site-packages\\seaborn\\distributions.py:2619: FutureWarning: `distplot` is a deprecated function and will be removed in a future version. Please adapt your code to use either `displot` (a figure-level function with similar flexibility) or `histplot` (an axes-level function for histograms).\n",
      "  warnings.warn(msg, FutureWarning)\n"
     ]
    },
    {
     "data": {
      "text/plain": [
       "<AxesSubplot:xlabel='Credit_History', ylabel='Density'>"
      ]
     },
     "execution_count": 28,
     "metadata": {},
     "output_type": "execute_result"
    },
    {
     "data": {
      "image/png": "[encoded data removed]",
      "text/plain": [
       "<Figure size 432x288 with 1 Axes>"
      ]
     },
     "metadata": {
      "needs_background": "light"
     },
     "output_type": "display_data"
    }
   ],
   "source": [
    "sns.distplot(Loan_data['Credit_History'])"
   ]
  },
  {
   "cell_type": "code",
   "execution_count": 29,
   "id": "6e65027c",
   "metadata": {},
   "outputs": [],
   "source": [
    "#From above observation,it is observed that nature of coapplicant income is right skewed\n",
    "#The nature of applicant income is also right skewed\n",
    "#The nature of Loan amount is sort of normally distributed\n",
    "#The nature of Loan amount term is left skewed\n",
    "#The maximum number of people have credit history 1"
   ]
  },
  {
   "cell_type": "code",
   "execution_count": 30,
   "id": "0acbcab9",
   "metadata": {},
   "outputs": [
    {
     "name": "stderr",
     "output_type": "stream",
     "text": [
      "C:\\Users\\sayan\\anaconda3\\lib\\site-packages\\seaborn\\_decorators.py:36: FutureWarning: Pass the following variable as a keyword arg: x. From version 0.12, the only valid positional argument will be `data`, and passing other arguments without an explicit keyword will result in an error or misinterpretation.\n",
      "  warnings.warn(\n",
      "C:\\Users\\sayan\\anaconda3\\lib\\site-packages\\seaborn\\_decorators.py:36: FutureWarning: Pass the following variable as a keyword arg: x. From version 0.12, the only valid positional argument will be `data`, and passing other arguments without an explicit keyword will result in an error or misinterpretation.\n",
      "  warnings.warn(\n",
      "C:\\Users\\sayan\\anaconda3\\lib\\site-packages\\seaborn\\_decorators.py:36: FutureWarning: Pass the following variable as a keyword arg: x. From version 0.12, the only valid positional argument will be `data`, and passing other arguments without an explicit keyword will result in an error or misinterpretation.\n",
      "  warnings.warn(\n",
      "C:\\Users\\sayan\\anaconda3\\lib\\site-packages\\seaborn\\_decorators.py:36: FutureWarning: Pass the following variable as a keyword arg: x. From version 0.12, the only valid positional argument will be `data`, and passing other arguments without an explicit keyword will result in an error or misinterpretation.\n",
      "  warnings.warn(\n"
     ]
    },
    {
     "data": {
      "text/plain": [
       "<AxesSubplot:xlabel='Loan_Amount_Term'>"
      ]
     },
     "execution_count": 30,
     "metadata": {},
     "output_type": "execute_result"
    },
    {
     "data": {
      "image/png": "[encoded data removed]",
      "text/plain": [
       "<Figure size 1080x720 with 4 Axes>"
      ]
     },
     "metadata": {
      "needs_background": "light"
     },
     "output_type": "display_data"
    }
   ],
   "source": [
    "plt.figure(figsize = (15,10))\n",
    "\n",
    "plt.subplot(3,2,1)\n",
    "sns.boxplot(Loan_data['ApplicantIncome'], color = 'yellow')\n",
    "\n",
    "plt.subplot(3,2,2)\n",
    "sns.boxplot(Loan_data['CoapplicantIncome'], color = 'blue')\n",
    "\n",
    "plt.subplot(3,2,3)\n",
    "sns.boxplot(Loan_data['LoanAmount'], color = 'red')\n",
    "\n",
    "plt.subplot(3,2,4)\n",
    "sns.boxplot(Loan_data['Loan_Amount_Term'], color = 'red')"
   ]
  },
  {
   "cell_type": "code",
   "execution_count": 31,
   "id": "ba52c363",
   "metadata": {},
   "outputs": [],
   "source": [
    "#From the above it is observed that all these features are impacted by outliers"
   ]
  },
  {
   "cell_type": "code",
   "execution_count": 32,
   "id": "9b750cd8",
   "metadata": {},
   "outputs": [],
   "source": [
    "#BIVARIATE/MULTIVARIATE ANALYSIS"
   ]
  },
  {
   "cell_type": "code",
   "execution_count": 33,
   "id": "d637e00a",
   "metadata": {},
   "outputs": [
    {
     "data": {
      "text/plain": [
       "<AxesSubplot:xlabel='Loan_Status', ylabel='Property_Area'>"
      ]
     },
     "execution_count": 33,
     "metadata": {},
     "output_type": "execute_result"
    },
    {
     "data": {
      "image/png": "[encoded data removed]",
      "text/plain": [
       "<Figure size 432x288 with 2 Axes>"
      ]
     },
     "metadata": {
      "needs_background": "light"
     },
     "output_type": "display_data"
    }
   ],
   "source": [
    "sns.heatmap(pd.crosstab(Loan_data['Property_Area'], Loan_data['Loan_Status']))"
   ]
  },
  {
   "cell_type": "code",
   "execution_count": 34,
   "id": "3cfde8d6",
   "metadata": {},
   "outputs": [],
   "source": [
    "#From the sbove it is observed that people who are from semi-urban area have got maximum number number of loan approaved."
   ]
  },
  {
   "cell_type": "code",
   "execution_count": 35,
   "id": "37705d57",
   "metadata": {},
   "outputs": [
    {
     "data": {
      "text/plain": [
       "<AxesSubplot:xlabel='Gender'>"
      ]
     },
     "execution_count": 35,
     "metadata": {},
     "output_type": "execute_result"
    },
    {
     "data": {
      "image/png": "[encoded data removed]",
      "text/plain": [
       "<Figure size 432x288 with 1 Axes>"
      ]
     },
     "metadata": {
      "needs_background": "light"
     },
     "output_type": "display_data"
    }
   ],
   "source": [
    "pd.crosstab(Loan_data['Gender'],Loan_data['Loan_Status']).plot(kind = 'bar')"
   ]
  },
  {
   "cell_type": "code",
   "execution_count": 36,
   "id": "6fba620d",
   "metadata": {},
   "outputs": [],
   "source": [
    "#Male people got the higest number of loan approaved."
   ]
  },
  {
   "cell_type": "code",
   "execution_count": 37,
   "id": "89e3e316",
   "metadata": {},
   "outputs": [
    {
     "data": {
      "text/html": [
       "<div>\n",
       "<style scoped>\n",
       "    .dataframe tbody tr th:only-of-type {\n",
       "        vertical-align: middle;\n",
       "    }\n",
       "\n",
       "    .dataframe tbody tr th {\n",
       "        vertical-align: top;\n",
       "    }\n",
       "\n",
       "    .dataframe thead th {\n",
       "        text-align: right;\n",
       "    }\n",
       "</style>\n",
       "<table border=\"1\" class=\"dataframe\">\n",
       "  <thead>\n",
       "    <tr style=\"text-align: right;\">\n",
       "      <th>Loan_Status</th>\n",
       "      <th>N</th>\n",
       "      <th>Y</th>\n",
       "    </tr>\n",
       "    <tr>\n",
       "      <th>Education</th>\n",
       "      <th></th>\n",
       "      <th></th>\n",
       "    </tr>\n",
       "  </thead>\n",
       "  <tbody>\n",
       "    <tr>\n",
       "      <th>Graduate</th>\n",
       "      <td>140</td>\n",
       "      <td>340</td>\n",
       "    </tr>\n",
       "    <tr>\n",
       "      <th>Not Graduate</th>\n",
       "      <td>52</td>\n",
       "      <td>82</td>\n",
       "    </tr>\n",
       "  </tbody>\n",
       "</table>\n",
       "</div>"
      ],
      "text/plain": [
       "Loan_Status     N    Y\n",
       "Education             \n",
       "Graduate      140  340\n",
       "Not Graduate   52   82"
      ]
     },
     "execution_count": 37,
     "metadata": {},
     "output_type": "execute_result"
    }
   ],
   "source": [
    "pd.crosstab(Loan_data['Education'], Loan_data['Loan_Status'])"
   ]
  },
  {
   "cell_type": "code",
   "execution_count": 38,
   "id": "dbdbc4f2",
   "metadata": {},
   "outputs": [],
   "source": [
    "#Gradaute people got the highest number of loan approaved."
   ]
  },
  {
   "cell_type": "code",
   "execution_count": 39,
   "id": "e519f01e",
   "metadata": {},
   "outputs": [
    {
     "name": "stderr",
     "output_type": "stream",
     "text": [
      "C:\\Users\\sayan\\anaconda3\\lib\\site-packages\\seaborn\\_decorators.py:36: FutureWarning: Pass the following variables as keyword args: x, y. From version 0.12, the only valid positional argument will be `data`, and passing other arguments without an explicit keyword will result in an error or misinterpretation.\n",
      "  warnings.warn(\n"
     ]
    },
    {
     "data": {
      "text/plain": [
       "<AxesSubplot:xlabel='ApplicantIncome', ylabel='LoanAmount'>"
      ]
     },
     "execution_count": 39,
     "metadata": {},
     "output_type": "execute_result"
    },
    {
     "data": {
      "image/png": "[encoded data removed]",
      "text/plain": [
       "<Figure size 432x288 with 1 Axes>"
      ]
     },
     "metadata": {
      "needs_background": "light"
     },
     "output_type": "display_data"
    }
   ],
   "source": [
    "sns.scatterplot(Loan_data['ApplicantIncome'],Loan_data['LoanAmount'])"
   ]
  },
  {
   "cell_type": "code",
   "execution_count": 40,
   "id": "fbf186c4",
   "metadata": {},
   "outputs": [],
   "source": [
    "#The relationship between applicant income and loan amount is sort of linear.with icrease in applicant income the loan amount also increase.\n",
    "#except few exceptipons are there."
   ]
  },
  {
   "cell_type": "code",
   "execution_count": 41,
   "id": "8b9231ac",
   "metadata": {},
   "outputs": [
    {
     "data": {
      "text/plain": [
       "<AxesSubplot:xlabel='Education'>"
      ]
     },
     "execution_count": 41,
     "metadata": {},
     "output_type": "execute_result"
    },
    {
     "data": {
      "image/png": "[encoded data removed]",
      "text/plain": [
       "<Figure size 432x288 with 1 Axes>"
      ]
     },
     "metadata": {
      "needs_background": "light"
     },
     "output_type": "display_data"
    }
   ],
   "source": [
    "(Loan_data.groupby('Education').mean()['LoanAmount']).plot(kind= 'bar')"
   ]
  },
  {
   "cell_type": "code",
   "execution_count": 42,
   "id": "1bcaa08a",
   "metadata": {},
   "outputs": [],
   "source": [
    "#Graduate people have got the highest loan amount"
   ]
  },
  {
   "cell_type": "code",
   "execution_count": 43,
   "id": "cd3bb7dd",
   "metadata": {},
   "outputs": [],
   "source": [
    "Q1 = Loan_data.quantile(0.25)\n",
    "Q3 = Loan_data.quantile(0.75)\n",
    "\n",
    "IQR = Q3 - Q1"
   ]
  },
  {
   "cell_type": "code",
   "execution_count": 44,
   "id": "7c04cce2",
   "metadata": {},
   "outputs": [],
   "source": [
    "percentile_25 = Loan_data.quantile(0.25)\n",
    "percentile_75 = Loan_data.quantile(0.75)"
   ]
  },
  {
   "cell_type": "code",
   "execution_count": 45,
   "id": "f0fc947d",
   "metadata": {},
   "outputs": [],
   "source": [
    "IQR = percentile_75 - percentile_25"
   ]
  },
  {
   "cell_type": "code",
   "execution_count": 46,
   "id": "06c8556a",
   "metadata": {},
   "outputs": [],
   "source": [
    "upper_limit = percentile_75 + 1.5*IQR\n",
    "lower_limit = percentile_25 - 1.5*IQR"
   ]
  },
  {
   "cell_type": "code",
   "execution_count": 47,
   "id": "43958d0c",
   "metadata": {},
   "outputs": [
    {
     "data": {
      "text/plain": [
       "ApplicantIncome      9477.5\n",
       "CoapplicantIncome    5912.5\n",
       "LoanAmount            255.0\n",
       "Loan_Amount_Term      360.0\n",
       "Credit_History          1.0\n",
       "dtype: float64"
      ]
     },
     "execution_count": 47,
     "metadata": {},
     "output_type": "execute_result"
    }
   ],
   "source": [
    "upper_limit"
   ]
  },
  {
   "cell_type": "code",
   "execution_count": 48,
   "id": "f9819921",
   "metadata": {},
   "outputs": [
    {
     "data": {
      "text/plain": [
       "ApplicantIncome     -1086.5\n",
       "CoapplicantIncome   -3547.5\n",
       "LoanAmount              7.0\n",
       "Loan_Amount_Term      360.0\n",
       "Credit_History          1.0\n",
       "dtype: float64"
      ]
     },
     "execution_count": 48,
     "metadata": {},
     "output_type": "execute_result"
    }
   ],
   "source": [
    "lower_limit"
   ]
  },
  {
   "cell_type": "code",
   "execution_count": 49,
   "id": "a3e0c87f",
   "metadata": {},
   "outputs": [],
   "source": [
    "Loan_data1=Loan_data.copy()"
   ]
  },
  {
   "cell_type": "code",
   "execution_count": 50,
   "id": "df36446f",
   "metadata": {},
   "outputs": [],
   "source": [
    "features=Loan_data1.select_dtypes(include=['int64','float64'])"
   ]
  },
  {
   "cell_type": "code",
   "execution_count": 51,
   "id": "fa0b6cfe",
   "metadata": {},
   "outputs": [],
   "source": [
    "def capping(df,cols,iqr_value):#factor=1.5 iqr value\n",
    "    for i in cols:\n",
    "        Q1=df[i].quantile(0.25)\n",
    "        Q3=df[i].quantile(0.75)\n",
    "        IQR=Q3-Q1\n",
    "        upper_limit=Q3+(IQR*iqr_value)\n",
    "        lower_limit=Q1-(IQR*iqr_value)\n",
    "        df[i]=np.where(df[i]>upper_limit,upper_limit,np.where(df[i]<lower_limit,lower_limit,df[i]))"
   ]
  },
  {
   "cell_type": "code",
   "execution_count": 52,
   "id": "5ed430c1",
   "metadata": {},
   "outputs": [],
   "source": [
    "capping(Loan_data1,features,1.5)"
   ]
  },
  {
   "cell_type": "code",
   "execution_count": 53,
   "id": "36c7df11",
   "metadata": {},
   "outputs": [
    {
     "data": {
      "text/html": [
       "<div>\n",
       "<style scoped>\n",
       "    .dataframe tbody tr th:only-of-type {\n",
       "        vertical-align: middle;\n",
       "    }\n",
       "\n",
       "    .dataframe tbody tr th {\n",
       "        vertical-align: top;\n",
       "    }\n",
       "\n",
       "    .dataframe thead th {\n",
       "        text-align: right;\n",
       "    }\n",
       "</style>\n",
       "<table border=\"1\" class=\"dataframe\">\n",
       "  <thead>\n",
       "    <tr style=\"text-align: right;\">\n",
       "      <th></th>\n",
       "      <th>ApplicantIncome</th>\n",
       "      <th>CoapplicantIncome</th>\n",
       "      <th>LoanAmount</th>\n",
       "      <th>Loan_Amount_Term</th>\n",
       "      <th>Credit_History</th>\n",
       "    </tr>\n",
       "  </thead>\n",
       "  <tbody>\n",
       "    <tr>\n",
       "      <th>count</th>\n",
       "      <td>981.000000</td>\n",
       "      <td>981.000000</td>\n",
       "      <td>954.000000</td>\n",
       "      <td>961.0</td>\n",
       "      <td>902.0</td>\n",
       "    </tr>\n",
       "    <tr>\n",
       "      <th>mean</th>\n",
       "      <td>4466.308869</td>\n",
       "      <td>1423.644159</td>\n",
       "      <td>135.495807</td>\n",
       "      <td>360.0</td>\n",
       "      <td>1.0</td>\n",
       "    </tr>\n",
       "    <tr>\n",
       "      <th>std</th>\n",
       "      <td>2268.305740</td>\n",
       "      <td>1619.356444</td>\n",
       "      <td>53.201694</td>\n",
       "      <td>0.0</td>\n",
       "      <td>0.0</td>\n",
       "    </tr>\n",
       "    <tr>\n",
       "      <th>min</th>\n",
       "      <td>0.000000</td>\n",
       "      <td>0.000000</td>\n",
       "      <td>9.000000</td>\n",
       "      <td>360.0</td>\n",
       "      <td>1.0</td>\n",
       "    </tr>\n",
       "    <tr>\n",
       "      <th>25%</th>\n",
       "      <td>2875.000000</td>\n",
       "      <td>0.000000</td>\n",
       "      <td>100.000000</td>\n",
       "      <td>360.0</td>\n",
       "      <td>1.0</td>\n",
       "    </tr>\n",
       "    <tr>\n",
       "      <th>50%</th>\n",
       "      <td>3800.000000</td>\n",
       "      <td>1110.000000</td>\n",
       "      <td>126.000000</td>\n",
       "      <td>360.0</td>\n",
       "      <td>1.0</td>\n",
       "    </tr>\n",
       "    <tr>\n",
       "      <th>75%</th>\n",
       "      <td>5516.000000</td>\n",
       "      <td>2365.000000</td>\n",
       "      <td>162.000000</td>\n",
       "      <td>360.0</td>\n",
       "      <td>1.0</td>\n",
       "    </tr>\n",
       "    <tr>\n",
       "      <th>max</th>\n",
       "      <td>9477.500000</td>\n",
       "      <td>5912.500000</td>\n",
       "      <td>255.000000</td>\n",
       "      <td>360.0</td>\n",
       "      <td>1.0</td>\n",
       "    </tr>\n",
       "  </tbody>\n",
       "</table>\n",
       "</div>"
      ],
      "text/plain": [
       "       ApplicantIncome  CoapplicantIncome  LoanAmount  Loan_Amount_Term  \\\n",
       "count       981.000000         981.000000  954.000000             961.0   \n",
       "mean       4466.308869        1423.644159  135.495807             360.0   \n",
       "std        2268.305740        1619.356444   53.201694               0.0   \n",
       "min           0.000000           0.000000    9.000000             360.0   \n",
       "25%        2875.000000           0.000000  100.000000             360.0   \n",
       "50%        3800.000000        1110.000000  126.000000             360.0   \n",
       "75%        5516.000000        2365.000000  162.000000             360.0   \n",
       "max        9477.500000        5912.500000  255.000000             360.0   \n",
       "\n",
       "       Credit_History  \n",
       "count           902.0  \n",
       "mean              1.0  \n",
       "std               0.0  \n",
       "min               1.0  \n",
       "25%               1.0  \n",
       "50%               1.0  \n",
       "75%               1.0  \n",
       "max               1.0  "
      ]
     },
     "execution_count": 53,
     "metadata": {},
     "output_type": "execute_result"
    }
   ],
   "source": [
    "Loan_data1.describe()"
   ]
  },
  {
   "cell_type": "code",
   "execution_count": 54,
   "id": "b30eff80",
   "metadata": {},
   "outputs": [
    {
     "name": "stdout",
     "output_type": "stream",
     "text": [
      "0.9627084934816618\n"
     ]
    },
    {
     "data": {
      "image/png": "[encoded data removed]",
      "text/plain": [
       "<Figure size 432x288 with 1 Axes>"
      ]
     },
     "metadata": {
      "needs_background": "light"
     },
     "output_type": "display_data"
    }
   ],
   "source": [
    "(Loan_data1['ApplicantIncome'].plot(kind = 'kde' ,color = 'blue'))\n",
    "print(Loan_data1['ApplicantIncome'].skew())"
   ]
  },
  {
   "cell_type": "code",
   "execution_count": 55,
   "id": "eae3d837",
   "metadata": {},
   "outputs": [
    {
     "name": "stdout",
     "output_type": "stream",
     "text": [
      "0.9950183505692877\n"
     ]
    },
    {
     "data": {
      "image/png": "[encoded data removed]",
      "text/plain": [
       "<Figure size 432x288 with 1 Axes>"
      ]
     },
     "metadata": {
      "needs_background": "light"
     },
     "output_type": "display_data"
    }
   ],
   "source": [
    "Loan_data1['CoapplicantIncome'].plot(kind = 'kde' , color = 'red')\n",
    "print(Loan_data1['CoapplicantIncome'].skew())"
   ]
  },
  {
   "cell_type": "code",
   "execution_count": 56,
   "id": "6f1208b4",
   "metadata": {},
   "outputs": [
    {
     "name": "stdout",
     "output_type": "stream",
     "text": [
      "0.6227253347383991\n"
     ]
    },
    {
     "data": {
      "image/png": "[encoded data removed]",
      "text/plain": [
       "<Figure size 432x288 with 1 Axes>"
      ]
     },
     "metadata": {
      "needs_background": "light"
     },
     "output_type": "display_data"
    }
   ],
   "source": [
    "Loan_data1['LoanAmount'].plot(kind = 'kde' , color = 'green')\n",
    "print(Loan_data1['LoanAmount'].skew())"
   ]
  },
  {
   "cell_type": "code",
   "execution_count": 57,
   "id": "f1b0ba27",
   "metadata": {},
   "outputs": [
    {
     "name": "stdout",
     "output_type": "stream",
     "text": [
      "0\n"
     ]
    },
    {
     "data": {
      "image/png": "[encoded data removed]",
      "text/plain": [
       "<Figure size 432x288 with 1 Axes>"
      ]
     },
     "metadata": {
      "needs_background": "light"
     },
     "output_type": "display_data"
    }
   ],
   "source": [
    "Loan_data1['Loan_Amount_Term'].plot(kind = 'hist' , color = 'yellow')\n",
    "print(Loan_data1['Loan_Amount_Term'].skew())"
   ]
  },
  {
   "cell_type": "code",
   "execution_count": 58,
   "id": "ed0a70de",
   "metadata": {},
   "outputs": [],
   "source": [
    "Loan_data= Loan_data.drop(['Loan_ID'], axis=1)"
   ]
  },
  {
   "cell_type": "code",
   "execution_count": 59,
   "id": "8ecf14b6",
   "metadata": {},
   "outputs": [
    {
     "data": {
      "text/plain": [
       "Gender                24\n",
       "Married                3\n",
       "Dependents            25\n",
       "Education              0\n",
       "Self_Employed         55\n",
       "ApplicantIncome        0\n",
       "CoapplicantIncome      0\n",
       "LoanAmount            27\n",
       "Loan_Amount_Term      20\n",
       "Credit_History        79\n",
       "Property_Area          0\n",
       "Loan_Status          367\n",
       "dtype: int64"
      ]
     },
     "execution_count": 59,
     "metadata": {},
     "output_type": "execute_result"
    }
   ],
   "source": [
    "Loan_data.isnull().sum()"
   ]
  },
  {
   "cell_type": "code",
   "execution_count": 60,
   "id": "b0720e9b",
   "metadata": {},
   "outputs": [],
   "source": [
    "#Handling Missing Values, mean/median--------> numerical_variables \n",
    "#most_frequent-----> categorical variables"
   ]
  },
  {
   "cell_type": "code",
   "execution_count": 61,
   "id": "fd3f0794",
   "metadata": {},
   "outputs": [],
   "source": [
    "Loan_data['LoanAmount'].fillna(Loan_data['LoanAmount'].mean(), inplace = True)"
   ]
  },
  {
   "cell_type": "code",
   "execution_count": 62,
   "id": "641ed650",
   "metadata": {},
   "outputs": [],
   "source": [
    "Loan_data['Loan_Amount_Term'].fillna(Loan_data['Loan_Amount_Term'].mean(), inplace =  True)"
   ]
  },
  {
   "cell_type": "code",
   "execution_count": 63,
   "id": "e9a3ac04",
   "metadata": {},
   "outputs": [],
   "source": [
    "Loan_data['Credit_History'].fillna(Loan_data['Credit_History'].mean(), inplace = True)"
   ]
  },
  {
   "cell_type": "code",
   "execution_count": 64,
   "id": "625e44e5",
   "metadata": {},
   "outputs": [],
   "source": [
    "Loan_data['Gender'].fillna(Loan_data['Gender'].mode()[0], inplace = True)\n",
    "Loan_data['Married'].fillna(Loan_data['Married'].mode()[0],inplace = True)\n",
    "Loan_data['Dependents'].fillna(Loan_data['Dependents'].mode()[0],inplace = True)\n",
    "Loan_data['Self_Employed'].fillna(Loan_data['Self_Employed'].mode()[0],inplace = True)\n",
    "Loan_data['Loan_Status'].fillna(Loan_data['Loan_Status'].mode()[0],inplace = True)"
   ]
  },
  {
   "cell_type": "code",
   "execution_count": 65,
   "id": "013251c4",
   "metadata": {},
   "outputs": [
    {
     "data": {
      "text/plain": [
       "Gender               0\n",
       "Married              0\n",
       "Dependents           0\n",
       "Education            0\n",
       "Self_Employed        0\n",
       "ApplicantIncome      0\n",
       "CoapplicantIncome    0\n",
       "LoanAmount           0\n",
       "Loan_Amount_Term     0\n",
       "Credit_History       0\n",
       "Property_Area        0\n",
       "Loan_Status          0\n",
       "dtype: int64"
      ]
     },
     "execution_count": 65,
     "metadata": {},
     "output_type": "execute_result"
    }
   ],
   "source": [
    "Loan_data.isnull().sum()"
   ]
  },
  {
   "cell_type": "code",
   "execution_count": 66,
   "id": "5376a0a7",
   "metadata": {},
   "outputs": [
    {
     "data": {
      "text/plain": [
       "0.9950183505692877"
      ]
     },
     "execution_count": 66,
     "metadata": {},
     "output_type": "execute_result"
    },
    {
     "data": {
      "image/png": "[encoded data removed]",
      "text/plain": [
       "<Figure size 432x288 with 1 Axes>"
      ]
     },
     "metadata": {
      "needs_background": "light"
     },
     "output_type": "display_data"
    }
   ],
   "source": [
    "Loan_data1['CoapplicantIncome'].plot(kind= 'kde')\n",
    "Loan_data1['CoapplicantIncome'].skew()"
   ]
  },
  {
   "cell_type": "code",
   "execution_count": 67,
   "id": "ec5f57bb",
   "metadata": {},
   "outputs": [],
   "source": [
    "Loan_data1['CoapplicantIncome'] = np.sqrt(Loan_data1['CoapplicantIncome'])"
   ]
  },
  {
   "cell_type": "code",
   "execution_count": 68,
   "id": "d39787ee",
   "metadata": {},
   "outputs": [
    {
     "data": {
      "text/plain": [
       "0.18282095276804733"
      ]
     },
     "execution_count": 68,
     "metadata": {},
     "output_type": "execute_result"
    },
    {
     "data": {
      "image/png": "[encoded data removed]",
      "text/plain": [
       "<Figure size 432x288 with 1 Axes>"
      ]
     },
     "metadata": {
      "needs_background": "light"
     },
     "output_type": "display_data"
    }
   ],
   "source": [
    "Loan_data1['CoapplicantIncome'].plot(kind = 'kde')\n",
    "Loan_data1['CoapplicantIncome'].skew()"
   ]
  },
  {
   "cell_type": "code",
   "execution_count": 69,
   "id": "eeac50c4",
   "metadata": {},
   "outputs": [
    {
     "data": {
      "text/plain": [
       "0.6227253347383991"
      ]
     },
     "execution_count": 69,
     "metadata": {},
     "output_type": "execute_result"
    },
    {
     "data": {
      "image/png": "[encoded data removed]",
      "text/plain": [
       "<Figure size 432x288 with 1 Axes>"
      ]
     },
     "metadata": {
      "needs_background": "light"
     },
     "output_type": "display_data"
    }
   ],
   "source": [
    "Loan_data1['LoanAmount'].plot(kind= 'kde')\n",
    "Loan_data1['LoanAmount'].skew()"
   ]
  },
  {
   "cell_type": "code",
   "execution_count": 70,
   "id": "382aedee",
   "metadata": {},
   "outputs": [],
   "source": [
    "Loan_data1['LoanAmount'] = np.sqrt(Loan_data1['LoanAmount'])"
   ]
  },
  {
   "cell_type": "code",
   "execution_count": 71,
   "id": "ba681df8",
   "metadata": {},
   "outputs": [
    {
     "data": {
      "text/plain": [
       "0.028960581658193603"
      ]
     },
     "execution_count": 71,
     "metadata": {},
     "output_type": "execute_result"
    },
    {
     "data": {
      "image/png": "[encoded data removed]",
      "text/plain": [
       "<Figure size 432x288 with 1 Axes>"
      ]
     },
     "metadata": {
      "needs_background": "light"
     },
     "output_type": "display_data"
    }
   ],
   "source": [
    "Loan_data1['LoanAmount'].plot(kind = 'kde')\n",
    "Loan_data1['LoanAmount'].skew()"
   ]
  },
  {
   "cell_type": "code",
   "execution_count": 72,
   "id": "e082c549",
   "metadata": {},
   "outputs": [
    {
     "name": "stdout",
     "output_type": "stream",
     "text": [
      "0.9627084934816618\n"
     ]
    },
    {
     "data": {
      "image/png": "[encoded data removed]",
      "text/plain": [
       "<Figure size 432x288 with 1 Axes>"
      ]
     },
     "metadata": {
      "needs_background": "light"
     },
     "output_type": "display_data"
    }
   ],
   "source": [
    "Loan_data1['ApplicantIncome'].plot(kind = 'kde' ,color = 'blue')\n",
    "print(Loan_data1['ApplicantIncome'].skew())"
   ]
  },
  {
   "cell_type": "code",
   "execution_count": 73,
   "id": "c514a1ca",
   "metadata": {},
   "outputs": [],
   "source": [
    "Loan_data1['ApplicantIncome'] = np.sqrt(Loan_data1['ApplicantIncome'])"
   ]
  },
  {
   "cell_type": "code",
   "execution_count": 74,
   "id": "c0b10f1d",
   "metadata": {},
   "outputs": [
    {
     "name": "stdout",
     "output_type": "stream",
     "text": [
      "0.3703790563986101\n"
     ]
    },
    {
     "data": {
      "image/png": "[encoded data removed]",
      "text/plain": [
       "<Figure size 432x288 with 1 Axes>"
      ]
     },
     "metadata": {
      "needs_background": "light"
     },
     "output_type": "display_data"
    }
   ],
   "source": [
    "Loan_data1['ApplicantIncome'].plot(kind = 'kde' ,color = 'blue')\n",
    "print(Loan_data1['ApplicantIncome'].skew())"
   ]
  },
  {
   "cell_type": "code",
   "execution_count": 75,
   "id": "437219bb",
   "metadata": {},
   "outputs": [
    {
     "name": "stdout",
     "output_type": "stream",
     "text": [
      "0\n"
     ]
    },
    {
     "data": {
      "image/png": "[encoded data removed]",
      "text/plain": [
       "<Figure size 432x288 with 1 Axes>"
      ]
     },
     "metadata": {
      "needs_background": "light"
     },
     "output_type": "display_data"
    }
   ],
   "source": [
    "Loan_data1['Loan_Amount_Term'].plot(kind = 'hist' , color = 'yellow')\n",
    "print(Loan_data1['Loan_Amount_Term'].skew())"
   ]
  },
  {
   "cell_type": "code",
   "execution_count": 76,
   "id": "0e9d4d9c",
   "metadata": {},
   "outputs": [],
   "source": [
    "Loan_data1['Loan_Amount_Term'] = np.log(Loan_data1['Loan_Amount_Term'])"
   ]
  },
  {
   "cell_type": "code",
   "execution_count": 77,
   "id": "904b28b4",
   "metadata": {},
   "outputs": [
    {
     "name": "stdout",
     "output_type": "stream",
     "text": [
      "0\n"
     ]
    },
    {
     "data": {
      "image/png": "[encoded data removed]",
      "text/plain": [
       "<Figure size 432x288 with 1 Axes>"
      ]
     },
     "metadata": {
      "needs_background": "light"
     },
     "output_type": "display_data"
    }
   ],
   "source": [
    "Loan_data1['Loan_Amount_Term'].plot(kind = 'hist' , color = 'yellow')\n",
    "print(Loan_data1['Loan_Amount_Term'].skew())"
   ]
  },
  {
   "cell_type": "code",
   "execution_count": 78,
   "id": "e6eeff62",
   "metadata": {},
   "outputs": [],
   "source": [
    "X = Loan_data.drop(columns= ['Loan_Status'], axis=1)\n",
    "y = Loan_data['Loan_Status']"
   ]
  },
  {
   "cell_type": "code",
   "execution_count": 79,
   "id": "56c21fc8",
   "metadata": {},
   "outputs": [],
   "source": [
    "from sklearn.model_selection import train_test_split\n",
    "X_train, X_test, y_train,y_test = train_test_split(X,y, test_size= 0.20, random_state = 0)"
   ]
  },
  {
   "cell_type": "code",
   "execution_count": null,
   "id": "95274419",
   "metadata": {},
   "outputs": [],
   "source": []
  },
  {
   "cell_type": "code",
   "execution_count": 80,
   "id": "ed429a83",
   "metadata": {},
   "outputs": [
    {
     "name": "stdout",
     "output_type": "stream",
     "text": [
      "Requirement already satisfied: imbalanced-learn in c:\\users\\sayan\\anaconda3\\lib\\site-packages (0.9.0)\n",
      "Requirement already satisfied: numpy>=1.14.6 in c:\\users\\sayan\\anaconda3\\lib\\site-packages (from imbalanced-learn) (1.20.3)\n",
      "Requirement already satisfied: joblib>=0.11 in c:\\users\\sayan\\anaconda3\\lib\\site-packages (from imbalanced-learn) (1.1.0)\n",
      "Requirement already satisfied: threadpoolctl>=2.0.0 in c:\\users\\sayan\\anaconda3\\lib\\site-packages (from imbalanced-learn) (2.2.0)\n",
      "Requirement already satisfied: scipy>=1.1.0 in c:\\users\\sayan\\anaconda3\\lib\\site-packages (from imbalanced-learn) (1.7.1)\n",
      "Requirement already satisfied: scikit-learn>=1.0.1 in c:\\users\\sayan\\anaconda3\\lib\\site-packages (from imbalanced-learn) (1.0.2)\n",
      "Note: you may need to restart the kernel to use updated packages.\n"
     ]
    }
   ],
   "source": [
    "pip install -U imbalanced-learn"
   ]
  },
  {
   "cell_type": "code",
   "execution_count": 81,
   "id": "e50b8eaf",
   "metadata": {},
   "outputs": [],
   "source": [
    "from imblearn.over_sampling import RandomOverSampler"
   ]
  },
  {
   "cell_type": "code",
   "execution_count": 82,
   "id": "e8cf2f69",
   "metadata": {},
   "outputs": [
    {
     "name": "stderr",
     "output_type": "stream",
     "text": [
      "C:\\Users\\sayan\\anaconda3\\lib\\site-packages\\imblearn\\utils\\_validation.py:586: FutureWarning: Pass sampling_strategy=0.5 as keyword args. From version 0.9 passing these as positional arguments will result in an error\n",
      "  warnings.warn(\n"
     ]
    }
   ],
   "source": [
    "os=RandomOverSampler(0.5)"
   ]
  },
  {
   "cell_type": "code",
   "execution_count": 83,
   "id": "d174c399",
   "metadata": {},
   "outputs": [],
   "source": [
    "X_train_res, y_train_res = os.fit_resample(X_train,y_train)"
   ]
  },
  {
   "cell_type": "code",
   "execution_count": 84,
   "id": "5b8759a6",
   "metadata": {},
   "outputs": [
    {
     "data": {
      "text/plain": [
       "((937, 11), (937,))"
      ]
     },
     "execution_count": 84,
     "metadata": {},
     "output_type": "execute_result"
    }
   ],
   "source": [
    "X_train_res.shape, y_train_res.shape"
   ]
  },
  {
   "cell_type": "code",
   "execution_count": 85,
   "id": "e02c45ba",
   "metadata": {},
   "outputs": [
    {
     "name": "stdout",
     "output_type": "stream",
     "text": [
      "original dataset shape Counter({'Y': 625, 'N': 159})\n",
      "resampled dataset shapeCounter({'Y': 625, 'N': 312})\n"
     ]
    }
   ],
   "source": [
    "from collections import Counter\n",
    "print(\"original dataset shape {}\". format(Counter(y_train)))\n",
    "print(\"resampled dataset shape{}\".format(Counter(y_train_res)))"
   ]
  },
  {
   "cell_type": "code",
   "execution_count": 86,
   "id": "7a278084",
   "metadata": {},
   "outputs": [],
   "source": [
    "from sklearn.preprocessing import OneHotEncoder\n",
    "from sklearn.preprocessing import LabelEncoder\n",
    "from sklearn.compose import ColumnTransformer"
   ]
  },
  {
   "cell_type": "code",
   "execution_count": 87,
   "id": "37bd1abd",
   "metadata": {},
   "outputs": [],
   "source": [
    "transformer = ColumnTransformer(transformers= [\n",
    "    ('trf', OneHotEncoder(drop = 'first', dtype = 'int32', sparse = False), ['Gender','Married', 'Dependents', 'Education',\n",
    "                                                             'Self_Employed', 'Property_Area'])\n",
    "       \n",
    "], remainder = 'passthrough')"
   ]
  },
  {
   "cell_type": "code",
   "execution_count": 88,
   "id": "90fefd4c",
   "metadata": {},
   "outputs": [],
   "source": [
    "X_train_new=transformer.fit_transform(X_train_res)"
   ]
  },
  {
   "cell_type": "code",
   "execution_count": 89,
   "id": "faa7b6c4",
   "metadata": {},
   "outputs": [],
   "source": [
    "X_test_new= transformer.transform(X_test)"
   ]
  },
  {
   "cell_type": "code",
   "execution_count": 90,
   "id": "44ca25d4",
   "metadata": {},
   "outputs": [],
   "source": [
    "from sklearn.preprocessing import StandardScaler"
   ]
  },
  {
   "cell_type": "code",
   "execution_count": 91,
   "id": "6deb5651",
   "metadata": {},
   "outputs": [],
   "source": [
    "Sc=StandardScaler()"
   ]
  },
  {
   "cell_type": "code",
   "execution_count": 92,
   "id": "cecec8af",
   "metadata": {},
   "outputs": [],
   "source": [
    "X_train_scale = Sc.fit_transform(X_train_new)"
   ]
  },
  {
   "cell_type": "code",
   "execution_count": 93,
   "id": "bd2e6f00",
   "metadata": {},
   "outputs": [],
   "source": [
    "X_test_scale = Sc.transform(X_test_new)"
   ]
  },
  {
   "cell_type": "code",
   "execution_count": 94,
   "id": "991a5dcc",
   "metadata": {},
   "outputs": [],
   "source": [
    "from sklearn.preprocessing import LabelEncoder\n",
    "le = LabelEncoder()"
   ]
  },
  {
   "cell_type": "code",
   "execution_count": 95,
   "id": "03d62251",
   "metadata": {},
   "outputs": [],
   "source": [
    "y_train= le.fit_transform(y_train_res)"
   ]
  },
  {
   "cell_type": "code",
   "execution_count": 96,
   "id": "636f51b0",
   "metadata": {},
   "outputs": [],
   "source": [
    "y_test= le.fit_transform(y_test)"
   ]
  },
  {
   "cell_type": "code",
   "execution_count": 97,
   "id": "685d300a",
   "metadata": {},
   "outputs": [],
   "source": [
    "from sklearn.metrics import accuracy_score\n",
    "from sklearn.metrics import classification_report\n",
    "from sklearn.metrics import confusion_matrix\n",
    "from sklearn.linear_model import LogisticRegression"
   ]
  },
  {
   "cell_type": "code",
   "execution_count": 98,
   "id": "9639d73b",
   "metadata": {},
   "outputs": [],
   "source": [
    "lr=LogisticRegression()"
   ]
  },
  {
   "cell_type": "code",
   "execution_count": 99,
   "id": "ad7481e3",
   "metadata": {},
   "outputs": [
    {
     "data": {
      "text/plain": [
       "LogisticRegression()"
      ]
     },
     "execution_count": 99,
     "metadata": {},
     "output_type": "execute_result"
    }
   ],
   "source": [
    "lr.fit(X_train_scale,y_train)"
   ]
  },
  {
   "cell_type": "code",
   "execution_count": 100,
   "id": "989cc4fc",
   "metadata": {},
   "outputs": [
    {
     "name": "stdout",
     "output_type": "stream",
     "text": [
      "[[ 12  21]\n",
      " [ 14 150]]\n",
      "Accuracy score 82.23350253807106\n",
      "classification report               precision    recall  f1-score   support\n",
      "\n",
      "           0       0.46      0.36      0.41        33\n",
      "           1       0.88      0.91      0.90       164\n",
      "\n",
      "    accuracy                           0.82       197\n",
      "   macro avg       0.67      0.64      0.65       197\n",
      "weighted avg       0.81      0.82      0.81       197\n",
      "\n"
     ]
    }
   ],
   "source": [
    "y_pred = lr.predict(X_test_scale)\n",
    "print(confusion_matrix(y_test, y_pred))\n",
    "print('Accuracy score {}'.format(accuracy_score(y_test,y_pred)*100))\n",
    "print('classification report {}'.format(classification_report(y_test, y_pred)))"
   ]
  },
  {
   "cell_type": "code",
   "execution_count": 101,
   "id": "7e3a761b",
   "metadata": {},
   "outputs": [],
   "source": [
    "from sklearn.tree import DecisionTreeClassifier"
   ]
  },
  {
   "cell_type": "code",
   "execution_count": 102,
   "id": "5aaf45d2",
   "metadata": {},
   "outputs": [],
   "source": [
    "DT = DecisionTreeClassifier()"
   ]
  },
  {
   "cell_type": "code",
   "execution_count": 103,
   "id": "e92a5e5b",
   "metadata": {},
   "outputs": [
    {
     "data": {
      "text/plain": [
       "DecisionTreeClassifier()"
      ]
     },
     "execution_count": 103,
     "metadata": {},
     "output_type": "execute_result"
    }
   ],
   "source": [
    "DT.fit(X_train_scale, y_train)"
   ]
  },
  {
   "cell_type": "code",
   "execution_count": 104,
   "id": "3c91097b",
   "metadata": {},
   "outputs": [
    {
     "name": "stdout",
     "output_type": "stream",
     "text": [
      "[[ 10  23]\n",
      " [ 29 135]]\n",
      "Accuracy score 73.60406091370558\n",
      "classification report               precision    recall  f1-score   support\n",
      "\n",
      "           0       0.26      0.30      0.28        33\n",
      "           1       0.85      0.82      0.84       164\n",
      "\n",
      "    accuracy                           0.74       197\n",
      "   macro avg       0.56      0.56      0.56       197\n",
      "weighted avg       0.75      0.74      0.74       197\n",
      "\n"
     ]
    }
   ],
   "source": [
    "y_pred = DT.predict(X_test_scale)\n",
    "print(confusion_matrix(y_test, y_pred))\n",
    "print('Accuracy score {}'.format(accuracy_score(y_test,y_pred)*100))\n",
    "print('classification report {}'.format(classification_report(y_test, y_pred)))"
   ]
  },
  {
   "cell_type": "code",
   "execution_count": 105,
   "id": "d5adc8e7",
   "metadata": {},
   "outputs": [],
   "source": [
    "from sklearn.svm import SVC"
   ]
  },
  {
   "cell_type": "code",
   "execution_count": 106,
   "id": "a9ffdd20",
   "metadata": {},
   "outputs": [],
   "source": [
    "classifier=SVC(kernel='rbf',random_state=2)"
   ]
  },
  {
   "cell_type": "code",
   "execution_count": 107,
   "id": "d4b40d84",
   "metadata": {},
   "outputs": [
    {
     "data": {
      "text/plain": [
       "SVC(random_state=2)"
      ]
     },
     "execution_count": 107,
     "metadata": {},
     "output_type": "execute_result"
    }
   ],
   "source": [
    "classifier.fit(X_train_scale,y_train)"
   ]
  },
  {
   "cell_type": "code",
   "execution_count": 108,
   "id": "e821d146",
   "metadata": {},
   "outputs": [
    {
     "name": "stdout",
     "output_type": "stream",
     "text": [
      "[[  9  24]\n",
      " [ 12 152]]\n",
      "Accuracy score 81.7258883248731\n",
      "classification report               precision    recall  f1-score   support\n",
      "\n",
      "           0       0.43      0.27      0.33        33\n",
      "           1       0.86      0.93      0.89       164\n",
      "\n",
      "    accuracy                           0.82       197\n",
      "   macro avg       0.65      0.60      0.61       197\n",
      "weighted avg       0.79      0.82      0.80       197\n",
      "\n"
     ]
    }
   ],
   "source": [
    "y_pred = classifier.predict(X_test_scale)\n",
    "print(confusion_matrix(y_test, y_pred))\n",
    "print('Accuracy score {}'.format(accuracy_score(y_test,y_pred)*100))\n",
    "print('classification report {}'.format(classification_report(y_test, y_pred)))"
   ]
  },
  {
   "cell_type": "code",
   "execution_count": 109,
   "id": "deb1205a",
   "metadata": {},
   "outputs": [
    {
     "data": {
      "text/plain": [
       "75.55808396859712"
      ]
     },
     "execution_count": 109,
     "metadata": {},
     "output_type": "execute_result"
    }
   ],
   "source": [
    "from sklearn.model_selection import cross_val_score\n",
    "np.mean(cross_val_score(SVC(), X_train_scale, y_train, cv =5, n_jobs =-1,scoring ='accuracy'))*100"
   ]
  },
  {
   "cell_type": "code",
   "execution_count": 110,
   "id": "7bccdc9f",
   "metadata": {},
   "outputs": [],
   "source": [
    "from sklearn.ensemble import RandomForestClassifier"
   ]
  },
  {
   "cell_type": "code",
   "execution_count": 111,
   "id": "388d7b5e",
   "metadata": {},
   "outputs": [],
   "source": [
    "RF = RandomForestClassifier(max_samples = 0.60, random_state = 52)"
   ]
  },
  {
   "cell_type": "code",
   "execution_count": 112,
   "id": "9afbd0fa",
   "metadata": {},
   "outputs": [
    {
     "data": {
      "text/plain": [
       "RandomForestClassifier(max_samples=0.6, random_state=52)"
      ]
     },
     "execution_count": 112,
     "metadata": {},
     "output_type": "execute_result"
    }
   ],
   "source": [
    "RF.fit(X_train_scale, y_train)"
   ]
  },
  {
   "cell_type": "code",
   "execution_count": 113,
   "id": "4c497441",
   "metadata": {},
   "outputs": [
    {
     "name": "stdout",
     "output_type": "stream",
     "text": [
      "[[  7  26]\n",
      " [ 10 154]]\n",
      "Accuracy score 81.7258883248731\n",
      "classification report               precision    recall  f1-score   support\n",
      "\n",
      "           0       0.41      0.21      0.28        33\n",
      "           1       0.86      0.94      0.90       164\n",
      "\n",
      "    accuracy                           0.82       197\n",
      "   macro avg       0.63      0.58      0.59       197\n",
      "weighted avg       0.78      0.82      0.79       197\n",
      "\n"
     ]
    }
   ],
   "source": [
    "y_pred = RF.predict(X_test_scale)\n",
    "print(confusion_matrix(y_test, y_pred))\n",
    "print('Accuracy score {}'.format(accuracy_score(y_test,y_pred)*100))\n",
    "print('classification report {}'.format(classification_report(y_test, y_pred)))"
   ]
  },
  {
   "cell_type": "code",
   "execution_count": null,
   "id": "91130df8",
   "metadata": {},
   "outputs": [],
   "source": [
    "\n"
   ]
  },
  {
   "cell_type": "raw",
   "id": "49896bfa",
   "metadata": {},
   "source": []
  },
  {
   "cell_type": "code",
   "execution_count": 114,
   "id": "90165693",
   "metadata": {},
   "outputs": [],
   "source": [
    "#HYPERPARAMETRE TUNING FOR RANDOM FOREST CLASSIFIER"
   ]
  },
  {
   "cell_type": "code",
   "execution_count": 115,
   "id": "b3b4f5fd",
   "metadata": {},
   "outputs": [],
   "source": [
    "from sklearn.model_selection import RandomizedSearchCV"
   ]
  },
  {
   "cell_type": "code",
   "execution_count": 116,
   "id": "80934e05",
   "metadata": {},
   "outputs": [],
   "source": [
    "#Number of trees in random forest\n",
    "n_estimators = [int(x) for x in np.linspace(start = 100, stop = 200, num=10)]\n",
    "\n",
    "#measuring the quality of a split\n",
    "criterion = ['gini', 'entropy']\n",
    "\n",
    "#maximum depth of the tree\n",
    "max_depth = [int(x) for x in np.linspace(10,100,10)]\n",
    "\n",
    "#minimum number of samples required to split a node\n",
    "min_samples_split= [2,4,5,6,8]\n",
    "\n",
    "#minimum number of samples required to be at a leaf node\n",
    "min_samples_leaf = [1,2,3,4,8,10] \n",
    "\n",
    "#number of features to consider\n",
    "max_features = ['auto', 'sqrt','log2']\n",
    "\n",
    "#Whether bootstrap samples are used when building trees\n",
    "bootstrap = ['True', 'False']\n",
    "\n",
    "#the number of samples to draw from X \n",
    "max_samples = [0.5, 0.75, 1.0, None]"
   ]
  },
  {
   "cell_type": "code",
   "execution_count": 117,
   "id": "ac5c6aeb",
   "metadata": {},
   "outputs": [
    {
     "name": "stdout",
     "output_type": "stream",
     "text": [
      "{'n_estimators': [100, 111, 122, 133, 144, 155, 166, 177, 188, 200], 'criterion': ['gini', 'entropy'], 'max_depth': [10, 20, 30, 40, 50, 60, 70, 80, 90, 100], 'min_samples_split': [2, 4, 5, 6, 8], 'min_samples_leaf': [1, 2, 3, 4, 8, 10], 'max_features': ['auto', 'sqrt', 'log2'], 'bootstrap': ['True', 'False'], 'max_samples': [0.5, 0.75, 1.0, None]}\n"
     ]
    }
   ],
   "source": [
    "#creating random grid\n",
    "random_grid = {'n_estimators': n_estimators,\n",
    "              'criterion': criterion, \n",
    "              'max_depth': max_depth,\n",
    "              'min_samples_split': min_samples_split,\n",
    "              'min_samples_leaf': min_samples_leaf,\n",
    "              'max_features': max_features,\n",
    "              'bootstrap': bootstrap,\n",
    "              'max_samples': max_samples\n",
    "              }\n",
    "print(random_grid)"
   ]
  },
  {
   "cell_type": "code",
   "execution_count": 118,
   "id": "8576eb4a",
   "metadata": {},
   "outputs": [],
   "source": [
    "rf = RandomForestClassifier()"
   ]
  },
  {
   "cell_type": "code",
   "execution_count": 119,
   "id": "17037108",
   "metadata": {},
   "outputs": [],
   "source": [
    "rf_random = RandomizedSearchCV(estimator = rf, param_distributions = random_grid, n_iter = 100, cv= 5, verbose =2, random_state =50,\n",
    "                              n_jobs= -1)"
   ]
  },
  {
   "cell_type": "code",
   "execution_count": 120,
   "id": "4d201be9",
   "metadata": {},
   "outputs": [
    {
     "name": "stdout",
     "output_type": "stream",
     "text": [
      "Fitting 5 folds for each of 100 candidates, totalling 500 fits\n"
     ]
    },
    {
     "data": {
      "text/plain": [
       "RandomizedSearchCV(cv=5, estimator=RandomForestClassifier(), n_iter=100,\n",
       "                   n_jobs=-1,\n",
       "                   param_distributions={'bootstrap': ['True', 'False'],\n",
       "                                        'criterion': ['gini', 'entropy'],\n",
       "                                        'max_depth': [10, 20, 30, 40, 50, 60,\n",
       "                                                      70, 80, 90, 100],\n",
       "                                        'max_features': ['auto', 'sqrt',\n",
       "                                                         'log2'],\n",
       "                                        'max_samples': [0.5, 0.75, 1.0, None],\n",
       "                                        'min_samples_leaf': [1, 2, 3, 4, 8, 10],\n",
       "                                        'min_samples_split': [2, 4, 5, 6, 8],\n",
       "                                        'n_estimators': [100, 111, 122, 133,\n",
       "                                                         144, 155, 166, 177,\n",
       "                                                         188, 200]},\n",
       "                   random_state=50, verbose=2)"
      ]
     },
     "execution_count": 120,
     "metadata": {},
     "output_type": "execute_result"
    }
   ],
   "source": [
    "rf_random.fit(X_train_scale, y_train)"
   ]
  },
  {
   "cell_type": "code",
   "execution_count": 121,
   "id": "705f0f64",
   "metadata": {},
   "outputs": [
    {
     "data": {
      "text/plain": [
       "{'n_estimators': 100,\n",
       " 'min_samples_split': 2,\n",
       " 'min_samples_leaf': 1,\n",
       " 'max_samples': 0.75,\n",
       " 'max_features': 'sqrt',\n",
       " 'max_depth': 20,\n",
       " 'criterion': 'gini',\n",
       " 'bootstrap': 'False'}"
      ]
     },
     "execution_count": 121,
     "metadata": {},
     "output_type": "execute_result"
    }
   ],
   "source": [
    "best_random_grid=rf_random.best_params_\n",
    "best_random_grid"
   ]
  },
  {
   "cell_type": "code",
   "execution_count": 122,
   "id": "6fab8791",
   "metadata": {},
   "outputs": [
    {
     "name": "stdout",
     "output_type": "stream",
     "text": [
      "[[ 10  23]\n",
      " [ 13 151]]\n",
      "Accuracy score 81.7258883248731\n",
      "classification report               precision    recall  f1-score   support\n",
      "\n",
      "           0       0.43      0.30      0.36        33\n",
      "           1       0.87      0.92      0.89       164\n",
      "\n",
      "    accuracy                           0.82       197\n",
      "   macro avg       0.65      0.61      0.63       197\n",
      "weighted avg       0.80      0.82      0.80       197\n",
      "\n"
     ]
    }
   ],
   "source": [
    "from sklearn.metrics import accuracy_score\n",
    "from sklearn.metrics import classification_report\n",
    "from sklearn.metrics import confusion_matrix\n",
    "y_pred = rf_random.predict(X_test_scale)\n",
    "print(confusion_matrix(y_test, y_pred))\n",
    "print('Accuracy score {}'.format(accuracy_score(y_test,y_pred)*100))\n",
    "print('classification report {}'.format(classification_report(y_test, y_pred)))"
   ]
  },
  {
   "cell_type": "code",
   "execution_count": 123,
   "id": "8248b38f",
   "metadata": {},
   "outputs": [
    {
     "data": {
      "text/plain": [
       "{'n_estimators': 100,\n",
       " 'min_samples_split': 2,\n",
       " 'min_samples_leaf': 1,\n",
       " 'max_samples': 0.75,\n",
       " 'max_features': 'sqrt',\n",
       " 'max_depth': 20,\n",
       " 'criterion': 'gini',\n",
       " 'bootstrap': 'False'}"
      ]
     },
     "execution_count": 123,
     "metadata": {},
     "output_type": "execute_result"
    }
   ],
   "source": [
    "rf_random.best_params_"
   ]
  },
  {
   "cell_type": "code",
   "execution_count": 124,
   "id": "0d361608",
   "metadata": {},
   "outputs": [],
   "source": [
    "from sklearn.model_selection import GridSearchCV"
   ]
  },
  {
   "cell_type": "code",
   "execution_count": 125,
   "id": "f3efa9cc",
   "metadata": {},
   "outputs": [
    {
     "name": "stdout",
     "output_type": "stream",
     "text": [
      "{'criterion': ['gini'], 'max_depth': [20], 'bootstrap': ['True', 'False'], 'min_samples_split': [2, 6, 12, 15], 'min_samples_leaf': [5, 10, 15, 20], 'max_leaf_nodes': [10, 20, None], 'max_samples': [0.75], 'n_estimators': [100, 0, 300, 200], 'oob_score': ['True', 'False']}\n"
     ]
    }
   ],
   "source": [
    "param_grid = { 'criterion' : [rf_random.best_params_['criterion']],\n",
    "              'max_depth' : [rf_random.best_params_['max_depth']],\n",
    "              'bootstrap':      ['True', 'False'],\n",
    "              'min_samples_split' : [2,6,12,15],\n",
    "              'min_samples_leaf' : [5,10,15,20], \n",
    "              'max_leaf_nodes' : [10,20,None],\n",
    "              'max_samples' : [rf_random.best_params_['max_samples']],\n",
    "              'n_estimators' : [rf_random.best_params_['n_estimators'],rf_random.best_params_['n_estimators']-100,\n",
    "                               rf_random.best_params_['n_estimators']+200,rf_random.best_params_['n_estimators']+100],\n",
    "              'oob_score' : ['True', 'False'],\n",
    "               }\n",
    "print(param_grid)\n",
    "                 "
   ]
  },
  {
   "cell_type": "code",
   "execution_count": 126,
   "id": "ad0e9530",
   "metadata": {},
   "outputs": [
    {
     "name": "stdout",
     "output_type": "stream",
     "text": [
      "Fitting 5 folds for each of 768 candidates, totalling 3840 fits\n"
     ]
    },
    {
     "name": "stderr",
     "output_type": "stream",
     "text": [
      "C:\\Users\\sayan\\anaconda3\\lib\\site-packages\\sklearn\\model_selection\\_validation.py:372: FitFailedWarning: \n",
      "960 fits failed out of a total of 3840.\n",
      "The score on these train-test partitions for these parameters will be set to nan.\n",
      "If these failures are not expected, you can try to debug them by setting error_score='raise'.\n",
      "\n",
      "Below are more details about the failures:\n",
      "--------------------------------------------------------------------------------\n",
      "960 fits failed with the following error:\n",
      "Traceback (most recent call last):\n",
      "  File \"C:\\Users\\sayan\\anaconda3\\lib\\site-packages\\sklearn\\model_selection\\_validation.py\", line 680, in _fit_and_score\n",
      "    estimator.fit(X_train, y_train, **fit_params)\n",
      "  File \"C:\\Users\\sayan\\anaconda3\\lib\\site-packages\\sklearn\\ensemble\\_forest.py\", line 392, in fit\n",
      "    self._validate_estimator()\n",
      "  File \"C:\\Users\\sayan\\anaconda3\\lib\\site-packages\\sklearn\\ensemble\\_base.py\", line 138, in _validate_estimator\n",
      "    raise ValueError(\n",
      "ValueError: n_estimators must be greater than zero, got 0.\n",
      "\n",
      "  warnings.warn(some_fits_failed_message, FitFailedWarning)\n",
      "C:\\Users\\sayan\\anaconda3\\lib\\site-packages\\sklearn\\model_selection\\_search.py:969: UserWarning: One or more of the test scores are non-finite: [0.75452839 0.75665036        nan        nan 0.75665605 0.75559222\n",
      " 0.75559222 0.75666174 0.75239504 0.75239504        nan        nan\n",
      " 0.75666174 0.75452839 0.75559222 0.75452839 0.75559222 0.75772557\n",
      "        nan        nan 0.75452839 0.75559791 0.75771419 0.75559791\n",
      " 0.75559222 0.75238935        nan        nan 0.75558653 0.75772557\n",
      " 0.75346456 0.75239504 0.7545227  0.75346456        nan        nan\n",
      " 0.75559222 0.75772557 0.75772557 0.7545227  0.75345887 0.75558653\n",
      "        nan        nan 0.75345887 0.75238935 0.75559222 0.75131983\n",
      " 0.75452839 0.7545227         nan        nan 0.75451701 0.7545227\n",
      " 0.75345887 0.75453408 0.75238935 0.75132552        nan        nan\n",
      " 0.75558653 0.75451701 0.75558653 0.75239504 0.75238366 0.75345318\n",
      "        nan        nan 0.75558653 0.75132552 0.7545227  0.75345318\n",
      " 0.75559222 0.75345887        nan        nan 0.75345318 0.75451701\n",
      " 0.74919786 0.75558653 0.7545227  0.75132552        nan        nan\n",
      " 0.75133121 0.75558653 0.75238366 0.7545227  0.75345887 0.75132552\n",
      "        nan        nan 0.75345887 0.75345318 0.75345887 0.75559222\n",
      " 0.75026169 0.75345887        nan        nan 0.75558653 0.75239504\n",
      " 0.75133121 0.74920924 0.74812834 0.75026738        nan        nan\n",
      " 0.74813972 0.75451701 0.75665605 0.75345887 0.75240073 0.75026738\n",
      "        nan        nan 0.75452839 0.74813403 0.74919786 0.74813403\n",
      " 0.74282057 0.75131414        nan        nan 0.74919786 0.75345887\n",
      " 0.75345318 0.75345318 0.75879508 0.76092843        nan        nan\n",
      " 0.75879508 0.75666174 0.75772557 0.76092274 0.75985323 0.75879508\n",
      "        nan        nan 0.76092274 0.75771988 0.75985891 0.76198657\n",
      " 0.75666174 0.75665605        nan        nan 0.75879508 0.7587894\n",
      " 0.75879508 0.76092274 0.75665605 0.75772557        nan        nan\n",
      " 0.75666174 0.75772557 0.75985891 0.75559791 0.75558653 0.75453408\n",
      "        nan        nan 0.75558653 0.75665605 0.75772557 0.75345887\n",
      " 0.75452839 0.75559791        nan        nan 0.75559222 0.75452839\n",
      " 0.75665605 0.7545227  0.75666174 0.75559222        nan        nan\n",
      " 0.75666174 0.75452839 0.75666174 0.75345887 0.75559222 0.75558653\n",
      "        nan        nan 0.75773125 0.75452839 0.75665605 0.75665605\n",
      " 0.75558084 0.75345318        nan        nan 0.75345887 0.75558653\n",
      " 0.75133121 0.75558653 0.75451701 0.75239504        nan        nan\n",
      " 0.75559222 0.7545227  0.75345887 0.7545227  0.75238935 0.75558653\n",
      "        nan        nan 0.7545227  0.75558653 0.75345318 0.7545227\n",
      " 0.75240642 0.75452839        nan        nan 0.75451701 0.75558653\n",
      " 0.7545227  0.75558653 0.74066447 0.74601206        nan        nan\n",
      " 0.75559222 0.75452839 0.74919786 0.7513369  0.74919217 0.75132552\n",
      "        nan        nan 0.75132552 0.7470702  0.75238366 0.74600068\n",
      " 0.7513369  0.74705882        nan        nan 0.74813403 0.75345318\n",
      " 0.75665605 0.7545227  0.73748436 0.75345887        nan        nan\n",
      " 0.75132552 0.74919786 0.75558653 0.75133121 0.76732848 0.77053135\n",
      "        nan        nan 0.76625327 0.77052566 0.76627034 0.76732848\n",
      " 0.76627603 0.76946183        nan        nan 0.77160086 0.768398\n",
      " 0.77052566 0.76946752 0.76946183 0.76414268        nan        nan\n",
      " 0.76947321 0.768398   0.76946752 0.76413699 0.76626465 0.76838662\n",
      "        nan        nan 0.76199795 0.7641313  0.76519513 0.76625896\n",
      " 0.75559222 0.75666174        nan        nan 0.7545227  0.75772557\n",
      " 0.75771988 0.75666174 0.75452839 0.7556036         nan        nan\n",
      " 0.75666174 0.75666174 0.75666174 0.75558653 0.75666174 0.7545227\n",
      "        nan        nan 0.7545227  0.75665605 0.75666174 0.75773125\n",
      " 0.75665605 0.75558653        nan        nan 0.75559222 0.75346456\n",
      " 0.75345318 0.7545227  0.7513369  0.74813403        nan        nan\n",
      " 0.75452839 0.75239504 0.75559222 0.75132552 0.7587894  0.7545227\n",
      "        nan        nan 0.75665605 0.7545227  0.75559222 0.75559791\n",
      " 0.75771988 0.75665036        nan        nan 0.75345318 0.75558653\n",
      " 0.75345887 0.75665605 0.75345887 0.75345318        nan        nan\n",
      " 0.75452839 0.75452839 0.75558653 0.75452839 0.7545227  0.75558653\n",
      "        nan        nan 0.75346456 0.74918648 0.75559222 0.74708158\n",
      " 0.74599499 0.75238935        nan        nan 0.75239504 0.75345887\n",
      " 0.75024462 0.75452839 0.74600637 0.75026738        nan        nan\n",
      " 0.74920355 0.7545227  0.75559222 0.75238935 0.75345318 0.74600068\n",
      "        nan        nan 0.75345318 0.75559791 0.75238935 0.75025031\n",
      " 0.75346456 0.7513369         nan        nan 0.75558653 0.75772557\n",
      " 0.75345887 0.75345318 0.75026169 0.75345887        nan        nan\n",
      " 0.75559791 0.75453408 0.75666174 0.75452839 0.75665605 0.75238935\n",
      "        nan        nan 0.75239504 0.75772557 0.75239504 0.75772557\n",
      " 0.75665605 0.75238935        nan        nan 0.75345887 0.75452839\n",
      " 0.75239504 0.75559222 0.74494823 0.75558653        nan        nan\n",
      " 0.7545227  0.7545227  0.75027307 0.75240073 0.75771988 0.74919786\n",
      "        nan        nan 0.75666174 0.75132552 0.75558653 0.75665605\n",
      " 0.7545227  0.75451701        nan        nan 0.75665605 0.75239504\n",
      " 0.75452839 0.75133121 0.75347025 0.75345318        nan        nan\n",
      " 0.75665605 0.7545227  0.75238935 0.75345318 0.75345318 0.75345318\n",
      "        nan        nan 0.75346456 0.75665605 0.75345887 0.75665605\n",
      " 0.75133121 0.75558653        nan        nan 0.75452839 0.75239504\n",
      " 0.7545227  0.75133121 0.75345318 0.75452839        nan        nan\n",
      " 0.75345887 0.75026169 0.75239504 0.74813972 0.7513369  0.75239504\n",
      "        nan        nan 0.75559222 0.75558653 0.75345887 0.75345887\n",
      " 0.75239504 0.75558653        nan        nan 0.75345318 0.75133121\n",
      " 0.75451701 0.74387871 0.75345318 0.74813403        nan        nan\n",
      " 0.75559222 0.75346456 0.75238935 0.74814541 0.74919786 0.75345318\n",
      "        nan        nan 0.75665036 0.75452839 0.75239504 0.75132552\n",
      " 0.74813403 0.75238935        nan        nan 0.75131414 0.75559222\n",
      " 0.75345318 0.74813403 0.75559791 0.75665605        nan        nan\n",
      " 0.75772557 0.75773125 0.76199226 0.75878371 0.7545227  0.75878371\n",
      "        nan        nan 0.7587894  0.75666174 0.75665605 0.75771988\n",
      " 0.75665605 0.76092274        nan        nan 0.75559791 0.75772557\n",
      " 0.75772557 0.75773125 0.75559222 0.75666174        nan        nan\n",
      " 0.75985323 0.7598646  0.7587894  0.7587894  0.7545227  0.75345318\n",
      "        nan        nan 0.75665605 0.75559222 0.75773125 0.75453408\n",
      " 0.75558653 0.75558653        nan        nan 0.75558653 0.75665605\n",
      " 0.75666174 0.75771988 0.75133121 0.75559791        nan        nan\n",
      " 0.75772557 0.75559222 0.75666174 0.75345887 0.7545227  0.75238935\n",
      "        nan        nan 0.75559791 0.75452839 0.75559222 0.75559222\n",
      " 0.75665605 0.75558084        nan        nan 0.7545227  0.75665605\n",
      " 0.75238935 0.75558653 0.75345887 0.75239504        nan        nan\n",
      " 0.7545227  0.75665605 0.75238935 0.7545227  0.75452839 0.75027307\n",
      "        nan        nan 0.7545227  0.75665605 0.75559222 0.75345318\n",
      " 0.75559222 0.7545227         nan        nan 0.75345318 0.75452839\n",
      " 0.75559222 0.75666174 0.75026738 0.75347025        nan        nan\n",
      " 0.75132552 0.75665605 0.7545227  0.75238366 0.75026169 0.74494254\n",
      "        nan        nan 0.75346456 0.74919786 0.75559222 0.75559222\n",
      " 0.75133121 0.75239504        nan        nan 0.75239504 0.75133121\n",
      " 0.7513369  0.75346456 0.75346456 0.75132552        nan        nan\n",
      " 0.75240073 0.74813403 0.75239504 0.75238366 0.76627034 0.77160655\n",
      "        nan        nan 0.76733417 0.77373421 0.77053135 0.76626465\n",
      " 0.76732848 0.76840369        nan        nan 0.768398   0.77053703\n",
      " 0.76947321 0.768398   0.76732279 0.76733986        nan        nan\n",
      " 0.76946183 0.76732279 0.76732848 0.76732279 0.76625327 0.76625896\n",
      "        nan        nan 0.76093412 0.76732848 0.76092843 0.76413699\n",
      " 0.75558653 0.75558653        nan        nan 0.7545227  0.75666174\n",
      " 0.75345887 0.75559222 0.75665605 0.75665605        nan        nan\n",
      " 0.75771988 0.75771988 0.75665605 0.75665605 0.75666174 0.7545227\n",
      "        nan        nan 0.75559222 0.75772557 0.75665605 0.75772557\n",
      " 0.75558653 0.75452839        nan        nan 0.75665605 0.75559222\n",
      " 0.75453408 0.75665605 0.7545227  0.75559222        nan        nan\n",
      " 0.75559222 0.75558653 0.75345887 0.75345318 0.75559222 0.75238366\n",
      "        nan        nan 0.7545227  0.7545227  0.75559222 0.7545227\n",
      " 0.75026169 0.75026169        nan        nan 0.75345887 0.7545227\n",
      " 0.75345887 0.75345887 0.75559791 0.75238935        nan        nan\n",
      " 0.7545227  0.7545227  0.75451701 0.75345318 0.75026738 0.75772557\n",
      "        nan        nan 0.75559222 0.75346456 0.750256   0.75453408\n",
      " 0.74067584 0.75346456        nan        nan 0.75238935 0.75133121\n",
      " 0.75346456 0.75238366 0.75559222 0.74706451        nan        nan\n",
      " 0.75026738 0.75558653 0.74919786 0.74919786 0.75238366 0.74813972\n",
      "        nan        nan 0.75344749 0.75452839 0.75345887 0.75026738]\n",
      "  warnings.warn(\n"
     ]
    },
    {
     "data": {
      "text/plain": [
       "GridSearchCV(cv=5, estimator=RandomForestClassifier(), n_jobs=-1,\n",
       "             param_grid={'bootstrap': ['True', 'False'], 'criterion': ['gini'],\n",
       "                         'max_depth': [20], 'max_leaf_nodes': [10, 20, None],\n",
       "                         'max_samples': [0.75],\n",
       "                         'min_samples_leaf': [5, 10, 15, 20],\n",
       "                         'min_samples_split': [2, 6, 12, 15],\n",
       "                         'n_estimators': [100, 0, 300, 200],\n",
       "                         'oob_score': ['True', 'False']},\n",
       "             verbose=2)"
      ]
     },
     "execution_count": 126,
     "metadata": {},
     "output_type": "execute_result"
    }
   ],
   "source": [
    "rf = RandomForestClassifier()\n",
    "grid_search = GridSearchCV(estimator = rf, param_grid = param_grid, cv= 5, n_jobs= -1,verbose=2)\n",
    "grid_search.fit(X_train_scale,y_train)"
   ]
  },
  {
   "cell_type": "code",
   "execution_count": 127,
   "id": "5af86539",
   "metadata": {},
   "outputs": [
    {
     "data": {
      "text/plain": [
       "{'bootstrap': 'False',\n",
       " 'criterion': 'gini',\n",
       " 'max_depth': 20,\n",
       " 'max_leaf_nodes': None,\n",
       " 'max_samples': 0.75,\n",
       " 'min_samples_leaf': 5,\n",
       " 'min_samples_split': 2,\n",
       " 'n_estimators': 300,\n",
       " 'oob_score': 'False'}"
      ]
     },
     "execution_count": 127,
     "metadata": {},
     "output_type": "execute_result"
    }
   ],
   "source": [
    "best_grid = grid_search.best_params_\n",
    "best_grid"
   ]
  },
  {
   "cell_type": "code",
   "execution_count": 128,
   "id": "547292de",
   "metadata": {},
   "outputs": [
    {
     "data": {
      "text/plain": [
       "0.7737342132210718"
      ]
     },
     "execution_count": 128,
     "metadata": {},
     "output_type": "execute_result"
    }
   ],
   "source": [
    "grid_search.best_score_"
   ]
  },
  {
   "cell_type": "code",
   "execution_count": 129,
   "id": "317b9e46",
   "metadata": {},
   "outputs": [
    {
     "name": "stdout",
     "output_type": "stream",
     "text": [
      "[[ 13  20]\n",
      " [ 14 150]]\n",
      "Accuracy score 82.74111675126903\n",
      "classification report               precision    recall  f1-score   support\n",
      "\n",
      "           0       0.48      0.39      0.43        33\n",
      "           1       0.88      0.91      0.90       164\n",
      "\n",
      "    accuracy                           0.83       197\n",
      "   macro avg       0.68      0.65      0.67       197\n",
      "weighted avg       0.82      0.83      0.82       197\n",
      "\n"
     ]
    }
   ],
   "source": [
    "y_pred = grid_search.predict(X_test_scale)\n",
    "print(confusion_matrix(y_test, y_pred))\n",
    "print('Accuracy score {}'.format(accuracy_score(y_test,y_pred)*100))\n",
    "print('classification report {}'.format(classification_report(y_test, y_pred)))"
   ]
  },
  {
   "cell_type": "code",
   "execution_count": 130,
   "id": "9cf26423",
   "metadata": {},
   "outputs": [],
   "source": [
    "#HYPERPARAMETRE TUNING FOR DECISION TREE "
   ]
  },
  {
   "cell_type": "code",
   "execution_count": 131,
   "id": "ecc529cb",
   "metadata": {},
   "outputs": [],
   "source": [
    "\n",
    "#measuring the quality of a split\n",
    "criterion = ['gini', 'entropy']\n",
    "\n",
    "#maximum depth of the tree\n",
    "max_depth = [int(x) for x in np.linspace(10,100,10)]\n",
    "\n",
    "#minimum number of samples required to split a node\n",
    "min_samples_split= [2,4,5,6,8]\n",
    "\n",
    "#minimum number of samples required to be at a leaf node\n",
    "min_samples_leaf = [1,2,3,4,8,10] \n",
    "\n",
    "#number of features to consider\n",
    "max_features = ['auto', 'sqrt','log2']\n",
    "\n",
    "#The strategy used to choose the split at each node. \n",
    "splitter = ['best', 'random']\n",
    "\n",
    "max_leaf_nodes = [5,10,15,20]"
   ]
  },
  {
   "cell_type": "code",
   "execution_count": 132,
   "id": "60e24bec",
   "metadata": {},
   "outputs": [
    {
     "name": "stdout",
     "output_type": "stream",
     "text": [
      "{'splitter': ['best', 'random'], 'criterion': ['gini', 'entropy'], 'max_depth': [10, 20, 30, 40, 50, 60, 70, 80, 90, 100], 'min_samples_split': [2, 4, 5, 6, 8], 'min_samples_leaf': [1, 2, 3, 4, 8, 10], 'max_features': ['auto', 'sqrt', 'log2'], 'max_leaf_nodes': [5, 10, 15, 20]}\n"
     ]
    }
   ],
   "source": [
    "random_grid = {'splitter' : splitter,\n",
    "              'criterion': criterion, \n",
    "              'max_depth': max_depth,\n",
    "              'min_samples_split': min_samples_split,\n",
    "              'min_samples_leaf': min_samples_leaf,\n",
    "              'max_features': max_features,\n",
    "              'max_leaf_nodes' : max_leaf_nodes,\n",
    "            \n",
    "              }\n",
    "print(random_grid)"
   ]
  },
  {
   "cell_type": "code",
   "execution_count": 133,
   "id": "3d0d326f",
   "metadata": {},
   "outputs": [],
   "source": [
    "dt=DecisionTreeClassifier()"
   ]
  },
  {
   "cell_type": "code",
   "execution_count": 134,
   "id": "3b5a7bbf",
   "metadata": {},
   "outputs": [],
   "source": [
    "dt_random = RandomizedSearchCV(estimator = dt, param_distributions = random_grid, n_iter = 100, cv= 5, verbose =2, random_state =50,\n",
    "                              n_jobs= -1)"
   ]
  },
  {
   "cell_type": "code",
   "execution_count": 135,
   "id": "3e9241eb",
   "metadata": {},
   "outputs": [
    {
     "name": "stdout",
     "output_type": "stream",
     "text": [
      "Fitting 5 folds for each of 100 candidates, totalling 500 fits\n"
     ]
    },
    {
     "data": {
      "text/plain": [
       "RandomizedSearchCV(cv=5, estimator=DecisionTreeClassifier(), n_iter=100,\n",
       "                   n_jobs=-1,\n",
       "                   param_distributions={'criterion': ['gini', 'entropy'],\n",
       "                                        'max_depth': [10, 20, 30, 40, 50, 60,\n",
       "                                                      70, 80, 90, 100],\n",
       "                                        'max_features': ['auto', 'sqrt',\n",
       "                                                         'log2'],\n",
       "                                        'max_leaf_nodes': [5, 10, 15, 20],\n",
       "                                        'min_samples_leaf': [1, 2, 3, 4, 8, 10],\n",
       "                                        'min_samples_split': [2, 4, 5, 6, 8],\n",
       "                                        'splitter': ['best', 'random']},\n",
       "                   random_state=50, verbose=2)"
      ]
     },
     "execution_count": 135,
     "metadata": {},
     "output_type": "execute_result"
    }
   ],
   "source": [
    "dt_random.fit(X_train_scale, y_train)"
   ]
  },
  {
   "cell_type": "code",
   "execution_count": 136,
   "id": "5d6b7b4c",
   "metadata": {},
   "outputs": [
    {
     "data": {
      "text/plain": [
       "{'splitter': 'best',\n",
       " 'min_samples_split': 5,\n",
       " 'min_samples_leaf': 1,\n",
       " 'max_leaf_nodes': 15,\n",
       " 'max_features': 'sqrt',\n",
       " 'max_depth': 20,\n",
       " 'criterion': 'entropy'}"
      ]
     },
     "execution_count": 136,
     "metadata": {},
     "output_type": "execute_result"
    }
   ],
   "source": [
    "best_random_grid=dt_random.best_params_\n",
    "best_random_grid"
   ]
  },
  {
   "cell_type": "code",
   "execution_count": 137,
   "id": "0a7cc4d3",
   "metadata": {},
   "outputs": [
    {
     "name": "stdout",
     "output_type": "stream",
     "text": [
      "[[  4  29]\n",
      " [  6 158]]\n",
      "Accuracy score 82.23350253807106\n",
      "classification report               precision    recall  f1-score   support\n",
      "\n",
      "           0       0.40      0.12      0.19        33\n",
      "           1       0.84      0.96      0.90       164\n",
      "\n",
      "    accuracy                           0.82       197\n",
      "   macro avg       0.62      0.54      0.54       197\n",
      "weighted avg       0.77      0.82      0.78       197\n",
      "\n"
     ]
    }
   ],
   "source": [
    "from sklearn.metrics import accuracy_score\n",
    "from sklearn.metrics import classification_report\n",
    "from sklearn.metrics import confusion_matrix\n",
    "y_pred = dt_random.predict(X_test_scale)\n",
    "print(confusion_matrix(y_test, y_pred))\n",
    "print('Accuracy score {}'.format(accuracy_score(y_test,y_pred)*100))\n",
    "print('classification report {}'.format(classification_report(y_test, y_pred)))"
   ]
  },
  {
   "cell_type": "code",
   "execution_count": 138,
   "id": "48c01c9f",
   "metadata": {},
   "outputs": [],
   "source": [
    "#HYPERPARAMETRE TUNING FOR SUPPORT VECTOR MACHINES"
   ]
  },
  {
   "cell_type": "code",
   "execution_count": 139,
   "id": "19d53d08",
   "metadata": {},
   "outputs": [],
   "source": [
    "#C:-Regularization parameter. The strength of the regularization is inversely proportional to C.\n",
    "#kernel:-Specifies the kernel type to be used in the algorithm.\n",
    "#gamma:-Kernel coefficient for ‘rbf’, ‘poly’ and ‘sigmoid’.\n",
    "#max_iter:-Hard limit on iterations within solver.\n",
    "#tol:-Tolerance for stopping criterion."
   ]
  },
  {
   "cell_type": "code",
   "execution_count": 140,
   "id": "8647874d",
   "metadata": {},
   "outputs": [],
   "source": [
    "param_grid={'C':[0.1,0.01,1,0.001],\n",
    "           'gamma':[1,0.1,0.01,0.001],\n",
    "           'kernel':['linear', 'poly', 'rbf', 'sigmoid'],\n",
    "           'max_iter':[100,1000,2500,5000],\n",
    "           'tol':[0.001,0.01,0.1]}"
   ]
  },
  {
   "cell_type": "code",
   "execution_count": 141,
   "id": "bc08636e",
   "metadata": {},
   "outputs": [],
   "source": [
    "svm_model = SVC()"
   ]
  },
  {
   "cell_type": "code",
   "execution_count": 142,
   "id": "567fcc1e",
   "metadata": {},
   "outputs": [
    {
     "name": "stdout",
     "output_type": "stream",
     "text": [
      "Fitting 4 folds for each of 768 candidates, totalling 3072 fits\n"
     ]
    },
    {
     "name": "stderr",
     "output_type": "stream",
     "text": [
      "C:\\Users\\sayan\\anaconda3\\lib\\site-packages\\sklearn\\svm\\_base.py:284: ConvergenceWarning: Solver terminated early (max_iter=1000).  Consider pre-processing your data with StandardScaler or MinMaxScaler.\n",
      "  warnings.warn(\n"
     ]
    },
    {
     "data": {
      "text/plain": [
       "GridSearchCV(cv=4, estimator=SVC(), n_jobs=-1,\n",
       "             param_grid={'C': [0.1, 0.01, 1, 0.001],\n",
       "                         'gamma': [1, 0.1, 0.01, 0.001],\n",
       "                         'kernel': ['linear', 'poly', 'rbf', 'sigmoid'],\n",
       "                         'max_iter': [100, 1000, 2500, 5000],\n",
       "                         'tol': [0.001, 0.01, 0.1]},\n",
       "             verbose=2)"
      ]
     },
     "execution_count": 142,
     "metadata": {},
     "output_type": "execute_result"
    }
   ],
   "source": [
    "grid_search = GridSearchCV(estimator = svm_model, param_grid = param_grid, cv= 4, n_jobs= -1,verbose=2)\n",
    "grid_search.fit(X_train_scale,y_train)"
   ]
  },
  {
   "cell_type": "code",
   "execution_count": 143,
   "id": "ea7ffe2a",
   "metadata": {},
   "outputs": [
    {
     "data": {
      "text/plain": [
       "{'C': 1, 'gamma': 1, 'kernel': 'rbf', 'max_iter': 1000, 'tol': 0.001}"
      ]
     },
     "execution_count": 143,
     "metadata": {},
     "output_type": "execute_result"
    }
   ],
   "source": [
    "best_grid = grid_search.best_params_\n",
    "best_grid"
   ]
  },
  {
   "cell_type": "code",
   "execution_count": 144,
   "id": "19a5c2d5",
   "metadata": {},
   "outputs": [
    {
     "data": {
      "text/plain": [
       "0.8217812329514457"
      ]
     },
     "execution_count": 144,
     "metadata": {},
     "output_type": "execute_result"
    }
   ],
   "source": [
    "grid_search.best_score_"
   ]
  },
  {
   "cell_type": "code",
   "execution_count": 145,
   "id": "ced64989",
   "metadata": {},
   "outputs": [
    {
     "name": "stdout",
     "output_type": "stream",
     "text": [
      "[[  5  28]\n",
      " [  5 159]]\n",
      "Accuracy score 83.24873096446701\n",
      "classification report               precision    recall  f1-score   support\n",
      "\n",
      "           0       0.50      0.15      0.23        33\n",
      "           1       0.85      0.97      0.91       164\n",
      "\n",
      "    accuracy                           0.83       197\n",
      "   macro avg       0.68      0.56      0.57       197\n",
      "weighted avg       0.79      0.83      0.79       197\n",
      "\n"
     ]
    }
   ],
   "source": [
    "y_pred = grid_search.predict(X_test_scale)\n",
    "print(confusion_matrix(y_test, y_pred))\n",
    "print('Accuracy score {}'.format(accuracy_score(y_test,y_pred)*100))\n",
    "print('classification report {}'.format(classification_report(y_test, y_pred)))"
   ]
  },
  {
   "cell_type": "code",
   "execution_count": 146,
   "id": "ecfb0828",
   "metadata": {},
   "outputs": [],
   "source": [
    "#HYPERPARAMETRE TUNING FOR LOGISTIC REGRESSION"
   ]
  },
  {
   "cell_type": "code",
   "execution_count": 147,
   "id": "95d1086f",
   "metadata": {},
   "outputs": [],
   "source": [
    "#penalty:-specify which type of regularization technique used.\n",
    "#tol:-Tolerance for stopping criterion.\n",
    "#C:-Regularization parameter. The strength of the regularization is inversely proportional to C.\n",
    "#solver:-algorithm to use in the optimization problem.\n",
    "#max_iter:-Maximum number of iteration taken to converge.\n"
   ]
  },
  {
   "cell_type": "code",
   "execution_count": 148,
   "id": "20dddca2",
   "metadata": {},
   "outputs": [],
   "source": [
    "param_grid={'C':[0.1,0.01,1,0.001],\n",
    "           'penalty':['l1', 'l2', 'elasticnet', 'none'],\n",
    "            'solver':['newton-cg', 'lbfgs', 'liblinear', 'sag', 'saga'],\n",
    "            'max_iter':[100,1000,2500,5000],\n",
    "            'tol':[0.001,0.01,0.1]}"
   ]
  },
  {
   "cell_type": "code",
   "execution_count": 149,
   "id": "e41607a6",
   "metadata": {},
   "outputs": [],
   "source": [
    "log_reg=LogisticRegression()"
   ]
  },
  {
   "cell_type": "code",
   "execution_count": 150,
   "id": "bbb997f5",
   "metadata": {},
   "outputs": [
    {
     "name": "stdout",
     "output_type": "stream",
     "text": [
      "Fitting 4 folds for each of 960 candidates, totalling 3840 fits\n"
     ]
    },
    {
     "name": "stderr",
     "output_type": "stream",
     "text": [
      "C:\\Users\\sayan\\anaconda3\\lib\\site-packages\\sklearn\\model_selection\\_validation.py:372: FitFailedWarning: \n",
      "1728 fits failed out of a total of 3840.\n",
      "The score on these train-test partitions for these parameters will be set to nan.\n",
      "If these failures are not expected, you can try to debug them by setting error_score='raise'.\n",
      "\n",
      "Below are more details about the failures:\n",
      "--------------------------------------------------------------------------------\n",
      "192 fits failed with the following error:\n",
      "Traceback (most recent call last):\n",
      "  File \"C:\\Users\\sayan\\anaconda3\\lib\\site-packages\\sklearn\\model_selection\\_validation.py\", line 680, in _fit_and_score\n",
      "    estimator.fit(X_train, y_train, **fit_params)\n",
      "  File \"C:\\Users\\sayan\\anaconda3\\lib\\site-packages\\sklearn\\linear_model\\_logistic.py\", line 1461, in fit\n",
      "    solver = _check_solver(self.solver, self.penalty, self.dual)\n",
      "  File \"C:\\Users\\sayan\\anaconda3\\lib\\site-packages\\sklearn\\linear_model\\_logistic.py\", line 447, in _check_solver\n",
      "    raise ValueError(\n",
      "ValueError: Solver newton-cg supports only 'l2' or 'none' penalties, got l1 penalty.\n",
      "\n",
      "--------------------------------------------------------------------------------\n",
      "192 fits failed with the following error:\n",
      "Traceback (most recent call last):\n",
      "  File \"C:\\Users\\sayan\\anaconda3\\lib\\site-packages\\sklearn\\model_selection\\_validation.py\", line 680, in _fit_and_score\n",
      "    estimator.fit(X_train, y_train, **fit_params)\n",
      "  File \"C:\\Users\\sayan\\anaconda3\\lib\\site-packages\\sklearn\\linear_model\\_logistic.py\", line 1461, in fit\n",
      "    solver = _check_solver(self.solver, self.penalty, self.dual)\n",
      "  File \"C:\\Users\\sayan\\anaconda3\\lib\\site-packages\\sklearn\\linear_model\\_logistic.py\", line 447, in _check_solver\n",
      "    raise ValueError(\n",
      "ValueError: Solver lbfgs supports only 'l2' or 'none' penalties, got l1 penalty.\n",
      "\n",
      "--------------------------------------------------------------------------------\n",
      "192 fits failed with the following error:\n",
      "Traceback (most recent call last):\n",
      "  File \"C:\\Users\\sayan\\anaconda3\\lib\\site-packages\\sklearn\\model_selection\\_validation.py\", line 680, in _fit_and_score\n",
      "    estimator.fit(X_train, y_train, **fit_params)\n",
      "  File \"C:\\Users\\sayan\\anaconda3\\lib\\site-packages\\sklearn\\linear_model\\_logistic.py\", line 1461, in fit\n",
      "    solver = _check_solver(self.solver, self.penalty, self.dual)\n",
      "  File \"C:\\Users\\sayan\\anaconda3\\lib\\site-packages\\sklearn\\linear_model\\_logistic.py\", line 447, in _check_solver\n",
      "    raise ValueError(\n",
      "ValueError: Solver sag supports only 'l2' or 'none' penalties, got l1 penalty.\n",
      "\n",
      "--------------------------------------------------------------------------------\n",
      "192 fits failed with the following error:\n",
      "Traceback (most recent call last):\n",
      "  File \"C:\\Users\\sayan\\anaconda3\\lib\\site-packages\\sklearn\\model_selection\\_validation.py\", line 680, in _fit_and_score\n",
      "    estimator.fit(X_train, y_train, **fit_params)\n",
      "  File \"C:\\Users\\sayan\\anaconda3\\lib\\site-packages\\sklearn\\linear_model\\_logistic.py\", line 1461, in fit\n",
      "    solver = _check_solver(self.solver, self.penalty, self.dual)\n",
      "  File \"C:\\Users\\sayan\\anaconda3\\lib\\site-packages\\sklearn\\linear_model\\_logistic.py\", line 447, in _check_solver\n",
      "    raise ValueError(\n",
      "ValueError: Solver newton-cg supports only 'l2' or 'none' penalties, got elasticnet penalty.\n",
      "\n",
      "--------------------------------------------------------------------------------\n",
      "192 fits failed with the following error:\n",
      "Traceback (most recent call last):\n",
      "  File \"C:\\Users\\sayan\\anaconda3\\lib\\site-packages\\sklearn\\model_selection\\_validation.py\", line 680, in _fit_and_score\n",
      "    estimator.fit(X_train, y_train, **fit_params)\n",
      "  File \"C:\\Users\\sayan\\anaconda3\\lib\\site-packages\\sklearn\\linear_model\\_logistic.py\", line 1461, in fit\n",
      "    solver = _check_solver(self.solver, self.penalty, self.dual)\n",
      "  File \"C:\\Users\\sayan\\anaconda3\\lib\\site-packages\\sklearn\\linear_model\\_logistic.py\", line 447, in _check_solver\n",
      "    raise ValueError(\n",
      "ValueError: Solver lbfgs supports only 'l2' or 'none' penalties, got elasticnet penalty.\n",
      "\n",
      "--------------------------------------------------------------------------------\n",
      "192 fits failed with the following error:\n",
      "Traceback (most recent call last):\n",
      "  File \"C:\\Users\\sayan\\anaconda3\\lib\\site-packages\\sklearn\\model_selection\\_validation.py\", line 680, in _fit_and_score\n",
      "    estimator.fit(X_train, y_train, **fit_params)\n",
      "  File \"C:\\Users\\sayan\\anaconda3\\lib\\site-packages\\sklearn\\linear_model\\_logistic.py\", line 1461, in fit\n",
      "    solver = _check_solver(self.solver, self.penalty, self.dual)\n",
      "  File \"C:\\Users\\sayan\\anaconda3\\lib\\site-packages\\sklearn\\linear_model\\_logistic.py\", line 457, in _check_solver\n",
      "    raise ValueError(\n",
      "ValueError: Only 'saga' solver supports elasticnet penalty, got solver=liblinear.\n",
      "\n",
      "--------------------------------------------------------------------------------\n",
      "192 fits failed with the following error:\n",
      "Traceback (most recent call last):\n",
      "  File \"C:\\Users\\sayan\\anaconda3\\lib\\site-packages\\sklearn\\model_selection\\_validation.py\", line 680, in _fit_and_score\n",
      "    estimator.fit(X_train, y_train, **fit_params)\n",
      "  File \"C:\\Users\\sayan\\anaconda3\\lib\\site-packages\\sklearn\\linear_model\\_logistic.py\", line 1461, in fit\n",
      "    solver = _check_solver(self.solver, self.penalty, self.dual)\n",
      "  File \"C:\\Users\\sayan\\anaconda3\\lib\\site-packages\\sklearn\\linear_model\\_logistic.py\", line 447, in _check_solver\n",
      "    raise ValueError(\n",
      "ValueError: Solver sag supports only 'l2' or 'none' penalties, got elasticnet penalty.\n",
      "\n",
      "--------------------------------------------------------------------------------\n",
      "192 fits failed with the following error:\n",
      "Traceback (most recent call last):\n",
      "  File \"C:\\Users\\sayan\\anaconda3\\lib\\site-packages\\sklearn\\model_selection\\_validation.py\", line 680, in _fit_and_score\n",
      "    estimator.fit(X_train, y_train, **fit_params)\n",
      "  File \"C:\\Users\\sayan\\anaconda3\\lib\\site-packages\\sklearn\\linear_model\\_logistic.py\", line 1471, in fit\n",
      "    raise ValueError(\n",
      "ValueError: l1_ratio must be between 0 and 1; got (l1_ratio=None)\n",
      "\n",
      "--------------------------------------------------------------------------------\n",
      "192 fits failed with the following error:\n",
      "Traceback (most recent call last):\n",
      "  File \"C:\\Users\\sayan\\anaconda3\\lib\\site-packages\\sklearn\\model_selection\\_validation.py\", line 680, in _fit_and_score\n",
      "    estimator.fit(X_train, y_train, **fit_params)\n",
      "  File \"C:\\Users\\sayan\\anaconda3\\lib\\site-packages\\sklearn\\linear_model\\_logistic.py\", line 1461, in fit\n",
      "    solver = _check_solver(self.solver, self.penalty, self.dual)\n",
      "  File \"C:\\Users\\sayan\\anaconda3\\lib\\site-packages\\sklearn\\linear_model\\_logistic.py\", line 464, in _check_solver\n",
      "    raise ValueError(\"penalty='none' is not supported for the liblinear solver\")\n",
      "ValueError: penalty='none' is not supported for the liblinear solver\n",
      "\n",
      "  warnings.warn(some_fits_failed_message, FitFailedWarning)\n",
      "C:\\Users\\sayan\\anaconda3\\lib\\site-packages\\sklearn\\model_selection\\_search.py:969: UserWarning: One or more of the test scores are non-finite: [       nan        nan        nan        nan        nan        nan\n",
      " 0.75237316 0.75237316 0.75344153        nan        nan        nan\n",
      " 0.75237316 0.75237316 0.75344153 0.74704492 0.74704492 0.74704492\n",
      " 0.74704492 0.74704492 0.74704492 0.75130933 0.75130933 0.75130933\n",
      " 0.74704492 0.74810875 0.75344153 0.74704492 0.74598109 0.74810875\n",
      "        nan        nan        nan        nan        nan        nan\n",
      "        nan        nan        nan        nan        nan        nan\n",
      "        nan        nan        nan 0.75238225 0.75238225 0.75238225\n",
      " 0.75238225 0.75238225 0.75344608        nan        nan        nan\n",
      " 0.75238225 0.74917712 0.75344608 0.75238225 0.75344608 0.74918622\n",
      "        nan        nan        nan        nan        nan        nan\n",
      " 0.75237316 0.75237316 0.75237316        nan        nan        nan\n",
      " 0.75237316 0.75237316 0.75344153 0.74704492 0.74704492 0.74704492\n",
      " 0.74704492 0.74704492 0.74704492 0.75130933 0.75130933 0.75130933\n",
      " 0.74704492 0.74704492 0.74597199 0.74704492 0.74811329 0.7481042\n",
      "        nan        nan        nan        nan        nan        nan\n",
      "        nan        nan        nan        nan        nan        nan\n",
      "        nan        nan        nan 0.75238225 0.75238225 0.75238225\n",
      " 0.75238225 0.75238225 0.75344608        nan        nan        nan\n",
      " 0.75238225 0.75238225 0.7449218  0.75238225 0.75238225 0.74704946\n",
      "        nan        nan        nan        nan        nan        nan\n",
      " 0.75237316 0.75237316 0.75237316        nan        nan        nan\n",
      " 0.75237316 0.75237316 0.75450991 0.74704492 0.74704492 0.74704492\n",
      " 0.74704492 0.74704492 0.74704492 0.75130933 0.75130933 0.75130933\n",
      " 0.74704492 0.74704492 0.75025005 0.74704492 0.74810875 0.74704492\n",
      "        nan        nan        nan        nan        nan        nan\n",
      "        nan        nan        nan        nan        nan        nan\n",
      "        nan        nan        nan 0.75238225 0.75238225 0.75238225\n",
      " 0.75238225 0.75238225 0.75344608        nan        nan        nan\n",
      " 0.75238225 0.75024095 0.75130478 0.75238225 0.75238225 0.74917712\n",
      "        nan        nan        nan        nan        nan        nan\n",
      " 0.75237316 0.75237316 0.75344153        nan        nan        nan\n",
      " 0.75237316 0.75237316 0.75237316 0.74704492 0.74704492 0.74704492\n",
      " 0.74704492 0.74704492 0.74704492 0.75130933 0.75130933 0.75130933\n",
      " 0.74704492 0.74704492 0.74918622 0.74704492 0.74810875 0.74918167\n",
      "        nan        nan        nan        nan        nan        nan\n",
      "        nan        nan        nan        nan        nan        nan\n",
      "        nan        nan        nan 0.75238225 0.75238225 0.75238225\n",
      " 0.75238225 0.75238225 0.75344608        nan        nan        nan\n",
      " 0.75238225 0.74917712 0.75025459 0.75238225 0.75344608 0.75131842\n",
      "        nan        nan        nan        nan        nan        nan\n",
      " 0.75450991 0.75450991 0.75450991        nan        nan        nan\n",
      " 0.66702128 0.66702128 0.66702128 0.73957992 0.73957992 0.73957992\n",
      " 0.73957992 0.73957992 0.73957992 0.75130933 0.75130933 0.75130933\n",
      " 0.73957992 0.73957992 0.73744317 0.73957992 0.73957992 0.74064375\n",
      "        nan        nan        nan        nan        nan        nan\n",
      "        nan        nan        nan        nan        nan        nan\n",
      "        nan        nan        nan 0.75238225 0.75238225 0.75238225\n",
      " 0.75238225 0.75238225 0.75344608        nan        nan        nan\n",
      " 0.75238225 0.75238225 0.74917712 0.75238225 0.75344608 0.75344153\n",
      "        nan        nan        nan        nan        nan        nan\n",
      " 0.75450991 0.75450991 0.75450991        nan        nan        nan\n",
      " 0.66702128 0.66702128 0.69052555 0.73957992 0.73957992 0.73957992\n",
      " 0.73957992 0.73957992 0.73957992 0.75130933 0.75130933 0.75130933\n",
      " 0.73957992 0.73957992 0.74384888 0.73957992 0.73957992 0.74064375\n",
      "        nan        nan        nan        nan        nan        nan\n",
      "        nan        nan        nan        nan        nan        nan\n",
      "        nan        nan        nan 0.75238225 0.75238225 0.75238225\n",
      " 0.75238225 0.75238225 0.75344608        nan        nan        nan\n",
      " 0.75238225 0.75238225 0.74278051 0.75238225 0.75344608 0.75344608\n",
      "        nan        nan        nan        nan        nan        nan\n",
      " 0.75450991 0.75450991 0.75450991        nan        nan        nan\n",
      " 0.66702128 0.66702128 0.66702128 0.73957992 0.73957992 0.73957992\n",
      " 0.73957992 0.73957992 0.73957992 0.75130933 0.75130933 0.75130933\n",
      " 0.73957992 0.73957992 0.74065285 0.73957992 0.73957992 0.74170304\n",
      "        nan        nan        nan        nan        nan        nan\n",
      "        nan        nan        nan        nan        nan        nan\n",
      "        nan        nan        nan 0.75238225 0.75238225 0.75238225\n",
      " 0.75238225 0.75238225 0.75344608        nan        nan        nan\n",
      " 0.75238225 0.75024095 0.74918167 0.75238225 0.75238225 0.74703128\n",
      "        nan        nan        nan        nan        nan        nan\n",
      " 0.75450991 0.75450991 0.75450991        nan        nan        nan\n",
      " 0.66702128 0.66702128 0.68304692 0.73957992 0.73957992 0.73957992\n",
      " 0.73957992 0.73957992 0.73957992 0.75130933 0.75130933 0.75130933\n",
      " 0.73957992 0.73957992 0.74385343 0.73957992 0.7406483  0.74064375\n",
      "        nan        nan        nan        nan        nan        nan\n",
      "        nan        nan        nan        nan        nan        nan\n",
      "        nan        nan        nan 0.75238225 0.75238225 0.75238225\n",
      " 0.75238225 0.75238225 0.75344608        nan        nan        nan\n",
      " 0.75238225 0.74917712 0.75237771 0.75238225 0.75238225 0.75345063\n",
      "        nan        nan        nan        nan        nan        nan\n",
      " 0.75130933 0.75130933 0.7502455         nan        nan        nan\n",
      " 0.75130933 0.75131388 0.75131388 0.75238225 0.75238225 0.75238225\n",
      " 0.75238225 0.75238225 0.75238225 0.75238225 0.75238225 0.75238225\n",
      " 0.75238225 0.75238225 0.75024095 0.75238225 0.7502455  0.75237771\n",
      "        nan        nan        nan        nan        nan        nan\n",
      "        nan        nan        nan        nan        nan        nan\n",
      "        nan        nan        nan 0.75238225 0.75238225 0.75238225\n",
      " 0.75238225 0.75238225 0.75344608        nan        nan        nan\n",
      " 0.75238225 0.75238225 0.7481042  0.75238225 0.75024095 0.75236861\n",
      "        nan        nan        nan        nan        nan        nan\n",
      " 0.75130933 0.75130933 0.75130933        nan        nan        nan\n",
      " 0.75130933 0.7502455  0.74384888 0.75238225 0.75238225 0.75238225\n",
      " 0.75238225 0.75238225 0.75238225 0.75238225 0.75238225 0.75238225\n",
      " 0.75238225 0.74917712 0.74597654 0.75238225 0.75238225 0.75130478\n",
      "        nan        nan        nan        nan        nan        nan\n",
      "        nan        nan        nan        nan        nan        nan\n",
      "        nan        nan        nan 0.75238225 0.75238225 0.75238225\n",
      " 0.75238225 0.75238225 0.75344608        nan        nan        nan\n",
      " 0.75238225 0.74917712 0.75237771 0.75238225 0.75238225 0.74917258\n",
      "        nan        nan        nan        nan        nan        nan\n",
      " 0.75130933 0.75130933 0.7502455         nan        nan        nan\n",
      " 0.75130933 0.75130933 0.74917258 0.75238225 0.75238225 0.75238225\n",
      " 0.75238225 0.75238225 0.75238225 0.75238225 0.75238225 0.75238225\n",
      " 0.75238225 0.74917712 0.74917258 0.75238225 0.75238225 0.74917258\n",
      "        nan        nan        nan        nan        nan        nan\n",
      "        nan        nan        nan        nan        nan        nan\n",
      "        nan        nan        nan 0.75238225 0.75238225 0.75238225\n",
      " 0.75238225 0.75238225 0.75344608        nan        nan        nan\n",
      " 0.75238225 0.75344608 0.74704492 0.75238225 0.75344608 0.75130933\n",
      "        nan        nan        nan        nan        nan        nan\n",
      " 0.75130933 0.75130933 0.7502455         nan        nan        nan\n",
      " 0.75130933 0.7502455  0.75238225 0.75238225 0.75238225 0.75238225\n",
      " 0.75238225 0.75238225 0.75238225 0.75238225 0.75238225 0.75238225\n",
      " 0.75238225 0.75238225 0.75131842 0.75238225 0.75238225 0.74810875\n",
      "        nan        nan        nan        nan        nan        nan\n",
      "        nan        nan        nan        nan        nan        nan\n",
      "        nan        nan        nan 0.75238225 0.75238225 0.75238225\n",
      " 0.75238225 0.75238225 0.75344608        nan        nan        nan\n",
      " 0.75238225 0.75238225 0.74811329 0.75238225 0.74917712 0.75025005\n",
      "        nan        nan        nan        nan        nan        nan\n",
      " 0.33297872 0.33297872 0.33297872        nan        nan        nan\n",
      " 0.66702128 0.66702128 0.66702128 0.66702128 0.66702128 0.66702128\n",
      " 0.66702128 0.66702128 0.66702128 0.75130933 0.75130933 0.75130933\n",
      " 0.66702128 0.66702128 0.66702128 0.66702128 0.66702128 0.66702128\n",
      "        nan        nan        nan        nan        nan        nan\n",
      "        nan        nan        nan        nan        nan        nan\n",
      "        nan        nan        nan 0.75238225 0.75238225 0.75238225\n",
      " 0.75238225 0.75238225 0.75344608        nan        nan        nan\n",
      " 0.75238225 0.75024095 0.74704492 0.75238225 0.75238225 0.75131842\n",
      "        nan        nan        nan        nan        nan        nan\n",
      " 0.33297872 0.33297872 0.33297872        nan        nan        nan\n",
      " 0.66702128 0.66702128 0.66702128 0.66702128 0.66702128 0.66702128\n",
      " 0.66702128 0.66702128 0.66702128 0.75130933 0.75130933 0.75130933\n",
      " 0.66702128 0.66702128 0.66702128 0.66702128 0.66702128 0.66702128\n",
      "        nan        nan        nan        nan        nan        nan\n",
      "        nan        nan        nan        nan        nan        nan\n",
      "        nan        nan        nan 0.75238225 0.75238225 0.75238225\n",
      " 0.75238225 0.75238225 0.75344608        nan        nan        nan\n",
      " 0.75238225 0.75344608 0.75024095 0.75238225 0.75344608 0.7470631\n",
      "        nan        nan        nan        nan        nan        nan\n",
      " 0.33297872 0.33297872 0.33297872        nan        nan        nan\n",
      " 0.66702128 0.66702128 0.66702128 0.66702128 0.66702128 0.66702128\n",
      " 0.66702128 0.66702128 0.66702128 0.75130933 0.75130933 0.75130933\n",
      " 0.66702128 0.66702128 0.66702128 0.66702128 0.66702128 0.66702128\n",
      "        nan        nan        nan        nan        nan        nan\n",
      "        nan        nan        nan        nan        nan        nan\n",
      "        nan        nan        nan 0.75238225 0.75238225 0.75238225\n",
      " 0.75238225 0.75238225 0.75344608        nan        nan        nan\n",
      " 0.75238225 0.75344608 0.75345517 0.75238225 0.75131388 0.74491726\n",
      "        nan        nan        nan        nan        nan        nan\n",
      " 0.33297872 0.33297872 0.33297872        nan        nan        nan\n",
      " 0.66702128 0.66702128 0.66702128 0.66702128 0.66702128 0.66702128\n",
      " 0.66702128 0.66702128 0.66702128 0.75130933 0.75130933 0.75130933\n",
      " 0.66702128 0.66702128 0.66702128 0.66702128 0.66702128 0.66702128\n",
      "        nan        nan        nan        nan        nan        nan\n",
      "        nan        nan        nan        nan        nan        nan\n",
      "        nan        nan        nan 0.75238225 0.75238225 0.75238225\n",
      " 0.75238225 0.75238225 0.75344608        nan        nan        nan\n",
      " 0.75238225 0.75238225 0.74597654 0.75238225 0.75238225 0.74917258]\n",
      "  warnings.warn(\n"
     ]
    },
    {
     "data": {
      "text/plain": [
       "GridSearchCV(cv=4, estimator=LogisticRegression(), n_jobs=-1,\n",
       "             param_grid={'C': [0.1, 0.01, 1, 0.001],\n",
       "                         'max_iter': [100, 1000, 2500, 5000],\n",
       "                         'penalty': ['l1', 'l2', 'elasticnet', 'none'],\n",
       "                         'solver': ['newton-cg', 'lbfgs', 'liblinear', 'sag',\n",
       "                                    'saga'],\n",
       "                         'tol': [0.001, 0.01, 0.1]},\n",
       "             verbose=2)"
      ]
     },
     "execution_count": 150,
     "metadata": {},
     "output_type": "execute_result"
    }
   ],
   "source": [
    "grid_search = GridSearchCV(estimator = log_reg, param_grid = param_grid, cv= 4, n_jobs= -1,verbose=2)\n",
    "grid_search.fit(X_train_scale,y_train)"
   ]
  },
  {
   "cell_type": "code",
   "execution_count": 151,
   "id": "02cf1e6a",
   "metadata": {},
   "outputs": [
    {
     "data": {
      "text/plain": [
       "{'C': 0.1, 'max_iter': 2500, 'penalty': 'l1', 'solver': 'saga', 'tol': 0.1}"
      ]
     },
     "execution_count": 151,
     "metadata": {},
     "output_type": "execute_result"
    }
   ],
   "source": [
    "best_grid = grid_search.best_params_\n",
    "best_grid"
   ]
  },
  {
   "cell_type": "code",
   "execution_count": 152,
   "id": "2c7be1bf",
   "metadata": {},
   "outputs": [
    {
     "data": {
      "text/plain": [
       "0.7545099108928897"
      ]
     },
     "execution_count": 152,
     "metadata": {},
     "output_type": "execute_result"
    }
   ],
   "source": [
    "grid_search.best_score_"
   ]
  },
  {
   "cell_type": "code",
   "execution_count": 153,
   "id": "0ef63795",
   "metadata": {},
   "outputs": [
    {
     "name": "stdout",
     "output_type": "stream",
     "text": [
      "[[ 12  21]\n",
      " [ 14 150]]\n",
      "Accuracy score 82.23350253807106\n",
      "classification report               precision    recall  f1-score   support\n",
      "\n",
      "           0       0.46      0.36      0.41        33\n",
      "           1       0.88      0.91      0.90       164\n",
      "\n",
      "    accuracy                           0.82       197\n",
      "   macro avg       0.67      0.64      0.65       197\n",
      "weighted avg       0.81      0.82      0.81       197\n",
      "\n"
     ]
    }
   ],
   "source": [
    "y_pred = grid_search.predict(X_test_scale)\n",
    "print(confusion_matrix(y_test, y_pred))\n",
    "print('Accuracy score {}'.format(accuracy_score(y_test,y_pred)*100))\n",
    "print('classification report {}'.format(classification_report(y_test, y_pred)))"
   ]
  },
  {
   "cell_type": "markdown",
   "id": "6e644497",
   "metadata": {},
   "source": [
    "# Conclusions and Interpretation "
   ]
  },
  {
   "cell_type": "markdown",
   "id": "8a47933b",
   "metadata": {},
   "source": [
    "It can be noticed that our results are comparable and in certain cases the accuracy score has improved.Our RandomForest Classifier(GridSearch cv)and Support Vector Classifier using GridSearch Cv was one of the best performing model with an accuracy of 83.24%.In general,it can be seen that all the models have acheived an accuracy score of above 70%."
   ]
  }
 ],
 "metadata": {
  "kernelspec": {
   "display_name": "Python 3 (ipykernel)",
   "language": "python",
   "name": "python3"
  },
  "language_info": {
   "codemirror_mode": {
    "name": "ipython",
    "version": 3
   },
   "file_extension": ".py",
   "mimetype": "text/x-python",
   "name": "python",
   "nbconvert_exporter": "python",
   "pygments_lexer": "ipython3",
   "version": "3.9.7"
  }
 },
 "nbformat": 4,
 "nbformat_minor": 5
}
